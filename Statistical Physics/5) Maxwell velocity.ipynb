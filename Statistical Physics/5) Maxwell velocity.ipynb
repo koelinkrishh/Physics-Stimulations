{
 "cells": [
  {
   "cell_type": "markdown",
   "metadata": {},
   "source": [
    "### Maxwell Boltzmann Velocity Distribution:"
   ]
  },
  {
   "cell_type": "code",
   "execution_count": null,
   "metadata": {},
   "outputs": [],
   "source": [
    "import numpy as np\n",
    "import pandas as pd\n",
    "import matplotlib.pyplot as plt\n",
    "import scipy as sci"
   ]
  },
  {
   "cell_type": "markdown",
   "metadata": {},
   "source": [
    "Constants"
   ]
  },
  {
   "cell_type": "code",
   "execution_count": null,
   "metadata": {},
   "outputs": [],
   "source": [
    "k = sci.constants.Boltzmann # Boltzmann constatn\n",
    "N = sci.constants.Avogadro # Avagadro's number\n",
    "\n",
    "M = [20,28,32] # Molar mass\n",
    "Elem = ['Neon', 'Nitrogen', 'Oxygen']"
   ]
  },
  {
   "cell_type": "markdown",
   "metadata": {},
   "source": [
    "Variables"
   ]
  },
  {
   "cell_type": "code",
   "execution_count": null,
   "metadata": {},
   "outputs": [],
   "source": [
    "vel = np.arange(0,2001,1) # velocity\n",
    "Temp = np.array([300,600,900]) # Temperature\n",
    "\n",
    "Vmp=np.zeros((len(M), len(Temp)))\n",
    "Vrms=np.zeros((len(M), len(Temp)))\n",
    "Vavg=np.zeros((len(M), len(Temp)))\n",
    "vmp=np.zeros((len(M), len(Temp)))\n",
    "vrms=np.zeros((len(M), len(Temp)))\n",
    "vavg=np.zeros((len(M), len(Temp)))\n",
    "MVDist = np.zeros([len(vel), len(Temp), len(M)])\n",
    "\n",
    "col = ['S.no.', 'Temperature', 'Most probable', 'Average', 'RMS']"
   ]
  },
  {
   "cell_type": "markdown",
   "metadata": {},
   "source": [
    "Velocity calculated from Formula"
   ]
  },
  {
   "cell_type": "code",
   "execution_count": null,
   "metadata": {},
   "outputs": [],
   "source": [
    "print(\"From Formula:\")\n",
    "for z in range(len(M)):\n",
    "  print(f'For {Elem[z]} : ')\n",
    "  m = M[z]/(N*1000)\n",
    "  \n",
    "  Vmp[z,:] = np.sqrt(2*k * Temp[:] /m)  # Most probable speed\n",
    "  Vavg[z,:] = np.sqrt(8*k * Temp[:] /(np.pi*m))  # Average speed\n",
    "  Vrms[z,:] = np.sqrt(3*k * Temp[:] /m)  # Root-mean-square speed\n",
    "  \n",
    "  data = list(zip(range(1,1+len(M)), Temp, Vmp[z,:], Vavg[z,:], Vrms[z,:]))\n",
    "  df = pd.DataFrame(data,columns=col)  \n",
    "  print(df)"
   ]
  },
  {
   "cell_type": "markdown",
   "metadata": {},
   "source": [
    "Velocity Calculated from Distribution"
   ]
  },
  {
   "cell_type": "code",
   "execution_count": null,
   "metadata": {},
   "outputs": [],
   "source": [
    "print(\"From Graph:\")\n",
    "# For each element\n",
    "for z in range(len(Elem)):\n",
    "  m = M[z]/(N*1000)\n",
    "  # For each temperature\n",
    "  for j in range(len(Temp)):\n",
    "      c = m/(2*np.pi*k*Temp[j])\n",
    "      # For each velocity\n",
    "      for i in range(len(vel)):\n",
    "        vsq = vel[i]**2\n",
    "        MVDist[i,j,z] = 4*np.pi*vsq*(c**1.5) * np.exp(-c*np.pi*vsq)\n",
    "      \n",
    "      Qmax =  max(MVDist[:,j,z])\n",
    "      vmp[z,j] = vel[np.argmax(MVDist[:,j,z])]\n",
    "      vrms[z,j] = vmp[z,j]*(1.5**0.5)\n",
    "      vavg[z,j] = vmp[z,j]*np.sqrt(4*np.pi)\n",
    "      \n",
    "  data = list(zip(range(1,1+len(M)), Temp, vmp[z,:], vavg[z,:], vrms[z,:]))\n",
    "  df = pd.DataFrame(data,columns=col)\n",
    "  \n",
    "  print(f'For {Elem[z]} : ')\n",
    "  print(df)"
   ]
  },
  {
   "cell_type": "markdown",
   "metadata": {},
   "source": [
    "##### Plotting Distribution Function:"
   ]
  },
  {
   "cell_type": "code",
   "execution_count": null,
   "metadata": {},
   "outputs": [],
   "source": [
    "for z in range(len(Elem)):\n",
    "  plt.figure(z+1,figsize=(8,3),facecolor='silver')\n",
    "  for j in range(len(Temp)):\n",
    "    plt.plot(vel,MVDist[:,j,z],linewidth=2,label=f'{Temp[j]} K')\n",
    "    plt.scatter(vmp[z,j],max(MVDist[:,j,z]),s=50,color='black',zorder=2,alpha=0.7)\n",
    "    plt.vlines(vmp[z,j],ymin=0,ymax=max(MVDist[:,j,z]),linestyle='dashed',color='magenta',linewidth=2)\n",
    "\n",
    "  plt.axvline(0,color='black',linewidth=1.5)\n",
    "  plt.axhline(0,color='black',linewidth=1.5)\n",
    "  \n",
    "  plt.legend()\n",
    "  plt.title(f'Maxwell velocity distribution function for {Elem[z]}',fontsize=14)\n",
    "  plt.xlabel('Velocity [m/s]',fontsize=12)\n",
    "  plt.ylabel('Dist. function',fontsize=12)\n",
    "  plt.grid()\n",
    "  \n",
    "  plt.tight_layout()\n",
    "  plt.show()"
   ]
  }
 ],
 "metadata": {
  "kernelspec": {
   "display_name": "Python 3",
   "language": "python",
   "name": "python3"
  },
  "language_info": {
   "codemirror_mode": {
    "name": "ipython",
    "version": 3
   },
   "file_extension": ".py",
   "mimetype": "text/x-python",
   "name": "python",
   "nbconvert_exporter": "python",
   "pygments_lexer": "ipython3",
   "version": "3.12.1"
  }
 },
 "nbformat": 4,
 "nbformat_minor": 2
}
