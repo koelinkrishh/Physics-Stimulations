{
 "cells": [
  {
   "cell_type": "markdown",
   "metadata": {},
   "source": [
    "### Plotting Specific Heat of Solids:"
   ]
  },
  {
   "cell_type": "code",
   "execution_count": null,
   "metadata": {},
   "outputs": [],
   "source": [
    "import numpy as np\n",
    "from scipy.integrate import quad\n",
    "import matplotlib.pyplot as plt"
   ]
  },
  {
   "cell_type": "code",
   "execution_count": null,
   "metadata": {},
   "outputs": [],
   "source": [
    "# Constants\n",
    "R = 8.314 # Universal Gas constant\n",
    "ThetaE = [240, 1322] # Einstein's temp\n",
    "ThetaD = [343, 2250] # Debye's temp\n",
    "Solid = ['Copper', 'Diamond']\n",
    "\n",
    "n = 500 # no of point"
   ]
  },
  {
   "cell_type": "code",
   "execution_count": null,
   "metadata": {},
   "outputs": [],
   "source": [
    "# Function\n",
    "def Einstein(z,T):\n",
    "  x = ThetaE[z]/T\n",
    "  if x<20:\n",
    "    return (3*R*(x**2)*np.exp(x))/(np.exp(x)-1)**2\n",
    "  else:\n",
    "    return 0\n",
    "\n",
    "def Dint(x):\n",
    "  return ((x**4)*np.exp(x))/(np.exp(x)-1)**2"
   ]
  },
  {
   "cell_type": "code",
   "execution_count": null,
   "metadata": {},
   "outputs": [],
   "source": [
    "for z,sol in enumerate(Solid):\n",
    "  temp = np.linspace(1e-2,2*ThetaD[z],n)\n",
    "\n",
    "  # Defining Data structure\n",
    "  Cv_P = np.zeros(n) # Dulong-Petit\n",
    "  Cv_E = np.zeros(n) # Einstein\n",
    "  Cv_D = np.zeros(n) # Debye\n",
    "\n",
    "  # Calculation Specific Heat\n",
    "  for j,t in enumerate(temp):\n",
    "    y = ThetaD[z]/t\n",
    "    \n",
    "    Cv_P[j] = 3*R\n",
    "    Cv_E[j] = Einstein(z,t)\n",
    "    if t<(ThetaD[z]/10):\n",
    "      Cv_D[j] = (12/5*(np.pi**4)*R)/(y**3)\n",
    "    else:\n",
    "      intg = quad(Dint,0,y)[0]\n",
    "      Cv_D[j] = 9*R*intg/(y**3)\n",
    "\n",
    "  # Plotting Specific Heats\n",
    "  plt.figure(z+1,figsize=(10,4),facecolor='silver')\n",
    "  plt.plot(temp,Cv_P,color='magenta',linestyle='dashed',linewidth=2,label='Dulong-Petit')\n",
    "  plt.plot(temp,Cv_E,color='firebrick',linewidth=2,label='Einstein')\n",
    "  plt.plot(temp,Cv_D,color='dodgerblue',linewidth=2,label='Debye')\n",
    "\n",
    "  plt.axvline(0,color='black',linewidth=1.5)\n",
    "  plt.axhline(0,color='black',linewidth=1.5)\n",
    "  \n",
    "  plt.legend()\n",
    "  plt.title(f'Specfic Heat of solid for {sol}',fontsize=14)\n",
    "  plt.xlabel('Temperature [k]',fontsize=12)\n",
    "  plt.ylabel('Specfic Heat [J/k*mol]',fontsize=12)\n",
    "  plt.grid()\n",
    "  \n",
    "  plt.tight_layout()\n",
    "  plt.show()\n"
   ]
  }
 ],
 "metadata": {
  "kernelspec": {
   "display_name": "Python 3",
   "language": "python",
   "name": "python3"
  },
  "language_info": {
   "codemirror_mode": {
    "name": "ipython",
    "version": 3
   },
   "file_extension": ".py",
   "mimetype": "text/x-python",
   "name": "python",
   "nbconvert_exporter": "python",
   "pygments_lexer": "ipython3",
   "version": "3.12.1"
  }
 },
 "nbformat": 4,
 "nbformat_minor": 2
}
