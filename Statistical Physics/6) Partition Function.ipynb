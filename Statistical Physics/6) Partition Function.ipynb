{
 "cells": [
  {
   "cell_type": "markdown",
   "metadata": {},
   "source": [
    "### Partition Function and Thermodynamic functions associated with it"
   ]
  },
  {
   "cell_type": "code",
   "execution_count": null,
   "metadata": {},
   "outputs": [],
   "source": [
    "import numpy as np\n",
    "import scipy as sci\n",
    "import matplotlib.pyplot as plt\n",
    "from findiff import FinDiff\n",
    "\n",
    "# Set print options to suppress scientific notation\n",
    "np.set_printoptions(suppress=True)"
   ]
  },
  {
   "cell_type": "markdown",
   "metadata": {},
   "source": [
    "Setup for partition function:"
   ]
  },
  {
   "cell_type": "code",
   "execution_count": null,
   "metadata": {},
   "outputs": [],
   "source": [
    "k = sci.constants.Boltzmann # boltzmann's constant [J/K]\n",
    "mu = 0 # Chemical Potential\n",
    "qe = sci.constants.elementary_charge # Electronic charge\n",
    "\n",
    "T = np.arange(1,501,1) # Temperature [Kelvin]"
   ]
  },
  {
   "cell_type": "code",
   "execution_count": null,
   "metadata": {},
   "outputs": [],
   "source": [
    "level = 3 # no of energy level\n",
    "\n",
    "# np.array([4e-4,5.050e-5,8e-3])\n",
    "Ei = qe*np.array([2e-4,5.050e-4,8e-3])\n",
    "gi = [1,3,2] # Degeneracy\n",
    "\n",
    "expo = np.zeros((len(Ei),len(T)))\n",
    "Z_list = np.zeros((len(Ei),len(T)))\n",
    "Prob = np.zeros((len(Ei),len(T)))\n",
    "Z = np.zeros(len(T))\n",
    "U = np.zeros(len(T))\n",
    "S = np.zeros(len(T))\n",
    "F = np.zeros(len(T))\n",
    "Cv = np.zeros(len(T))"
   ]
  },
  {
   "cell_type": "markdown",
   "metadata": {},
   "source": [
    "##### Partition and energy function:"
   ]
  },
  {
   "cell_type": "code",
   "execution_count": null,
   "metadata": {},
   "outputs": [],
   "source": [
    "for t in range(len(T)):\n",
    "  for i in range(len(Ei)):\n",
    "    expo[i,t] = np.exp(-(Ei[i]-mu)/(k*T[t]))\n",
    "    Z_list[i,t] = gi[i]*expo[i,t]\n",
    "  Z[t] = np.sum(Z_list[:,t]) # Partition Function"
   ]
  },
  {
   "cell_type": "markdown",
   "metadata": {},
   "source": [
    "##### Other thermodynamic function:"
   ]
  },
  {
   "cell_type": "code",
   "execution_count": null,
   "metadata": {},
   "outputs": [],
   "source": [
    "lnZ = np.log(Z)\n",
    "\n",
    "dT=T[2]-T[1]\n",
    "d_dT = FinDiff(0,dT,1)\n",
    "dlnZ_dT = d_dT(lnZ)\n",
    "\n",
    "for t in range(len(T)):\n",
    "  for i in range(len(Ei)):\n",
    "    # 1) Probablility\n",
    "    Prob[i,t] = Z_list[i,t]/Z[t]\n",
    "  # 2) Internal Energy\n",
    "  U[t] = k*T[t]**2 *(dlnZ_dT[t])\n",
    "  # 3) Entropy\n",
    "  S[t] = k*lnZ[t] + U[t]/T[t]\n",
    "  # 4) Helmholtz free energy\n",
    "  F[t] = U[t] - T[t]*S[t] # -k*T[t]*lnZ[t]\n",
    "\n",
    "dU_dT = d_dT(U)\n",
    "Cv = np.gradient(U,T)"
   ]
  },
  {
   "cell_type": "markdown",
   "metadata": {},
   "source": [
    "##### Plotting Function:"
   ]
  },
  {
   "cell_type": "code",
   "execution_count": null,
   "metadata": {},
   "outputs": [],
   "source": [
    "# Plotting Thermodynamic Functions:\n",
    "plt.figure(figsize=(12, 8))\n",
    "plt.suptitle('Thermodynamic Functions for 3 given degenerate level system', fontsize=16)\n",
    "\n",
    "\n",
    "# Plot Partition Function\n",
    "plt.subplot(2, 3, 1)\n",
    "plt.plot(T, Z, label='Partition Function (Z)')\n",
    "plt.xlabel('Temperature (K)')\n",
    "plt.ylabel('Z')\n",
    "plt.ylim(0,5.75)\n",
    "plt.legend()\n",
    "plt.grid(True)\n",
    "\n",
    "# Plot Internal Energy\n",
    "plt.subplot(2, 3, 2)\n",
    "plt.plot(T, U/qe, label='Internal Energy (U)')\n",
    "plt.xlabel('Temperature (K)')\n",
    "plt.ylabel('U/qe (eV)')\n",
    "plt.xlim(10, 500)  # Adjust as needed\n",
    "plt.ylim(min(U[10:]/qe), max(U[10:]/qe))  # Adjust y-axis limits\n",
    "plt.legend()\n",
    "plt.grid(True)\n",
    "\n",
    "# Plot Entropy\n",
    "plt.subplot(2, 3, 3)\n",
    "plt.plot(T, S/qe, label='Entropy (S)')\n",
    "plt.xlabel('Temperature (K)')\n",
    "plt.ylabel('S/qe (eV/K)')\n",
    "plt.ylim(min(S[10:]/qe), max(S[10:]/qe))  # Adjust y-axis limits\n",
    "plt.legend()\n",
    "plt.grid(True)\n",
    "\n",
    "# Plot Helmholtz Free Energy\n",
    "plt.subplot(2, 3, 4)\n",
    "plt.plot(T, F/qe, label='Helmholtz Free Energy (F)')\n",
    "plt.xlabel('Temperature (K)')\n",
    "plt.ylabel('F/qe (eV)')\n",
    "plt.legend()\n",
    "plt.grid(True)\n",
    "\n",
    "# Plot Heat Capacity\n",
    "plt.subplot(2, 3, 5)\n",
    "plt.plot(T, Cv/qe, label='Heat Capacity (Cv)')\n",
    "plt.xlabel('Temperature (K)')\n",
    "plt.ylabel('Cv/qe (eV/K)')\n",
    "plt.ylim(min(Cv[10:]/qe),max(Cv[10:]/qe))\n",
    "plt.legend()\n",
    "plt.grid(True)\n",
    "\n",
    "# Plot Probability of each Energy Level\n",
    "plt.subplot(2, 3, 6)\n",
    "for i in range(level):\n",
    "    plt.plot(T, Prob[i], label=f'Probability of Level {i}')\n",
    "plt.xlabel('Temperature (K)')\n",
    "plt.ylabel('Probability')\n",
    "plt.legend()\n",
    "plt.grid(True)\n",
    "\n",
    "plt.tight_layout()\n",
    "plt.show()"
   ]
  }
 ],
 "metadata": {
  "kernelspec": {
   "display_name": "Python 3",
   "language": "python",
   "name": "python3"
  },
  "language_info": {
   "codemirror_mode": {
    "name": "ipython",
    "version": 3
   },
   "file_extension": ".py",
   "mimetype": "text/x-python",
   "name": "python",
   "nbconvert_exporter": "python",
   "pygments_lexer": "ipython3",
   "version": "3.12.1"
  }
 },
 "nbformat": 4,
 "nbformat_minor": 2
}
