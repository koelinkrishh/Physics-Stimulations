{
 "cells": [
  {
   "cell_type": "markdown",
   "metadata": {},
   "source": [
    "### Distribution Function:"
   ]
  },
  {
   "cell_type": "code",
   "execution_count": null,
   "metadata": {},
   "outputs": [],
   "source": [
    "import numpy as np\n",
    "import matplotlib.pyplot as plt"
   ]
  },
  {
   "cell_type": "code",
   "execution_count": null,
   "metadata": {},
   "outputs": [],
   "source": [
    "mu = 0 # Chemical Potential\n",
    "k = 1.38e-23/(1.6e-19) # boltzmann's constant\n",
    "\n",
    "# Energy and temperature\n",
    "Energy = np.arange(-0.5, 0.5 + 0.01, 0.01)\n",
    "Temp = np.arange(100, 1100 + 200, 200)"
   ]
  },
  {
   "cell_type": "code",
   "execution_count": null,
   "metadata": {},
   "outputs": [],
   "source": [
    "def Distribution(E, T, Type):\n",
    "    expon = np.exp((E - mu) / (k * T))\n",
    "    \n",
    "    if 'maxwell' in str(Type).lower():\n",
    "        return 1 / expon\n",
    "    elif 'fermi' in str(Type).lower():\n",
    "        return 1 / (expon + 1)\n",
    "    elif 'bose' in str(Type).lower():\n",
    "        return 1 / (expon - 1)\n",
    "    else:\n",
    "        raise ValueError(\"Unknown distribution type\")"
   ]
  },
  {
   "cell_type": "markdown",
   "metadata": {},
   "source": [
    "#### Calculating Distribution function value:"
   ]
  },
  {
   "cell_type": "code",
   "execution_count": null,
   "metadata": {},
   "outputs": [],
   "source": [
    "# Data structure:\n",
    "Max = np.zeros((len(Energy),len(Temp)))\n",
    "Fermi = np.zeros((len(Energy),len(Temp)))\n",
    "Bose = np.zeros((len(Energy),len(Temp)))\n",
    "\n",
    "# Calculation\n",
    "for i,t in enumerate(Temp):\n",
    "  for j,e in enumerate(Energy):\n",
    "    Max[j,i] = Distribution(e,t,'maxwell')\n",
    "    Fermi[j,i] = Distribution(e,t,'fermi')\n",
    "    Bose[j,i] = Distribution(e,t,'bose')"
   ]
  },
  {
   "cell_type": "markdown",
   "metadata": {},
   "source": [
    "##### Plotting Maxwell:"
   ]
  },
  {
   "cell_type": "code",
   "execution_count": null,
   "metadata": {},
   "outputs": [],
   "source": [
    "plt.figure(1,figsize=(8,4))\n",
    "for i in range(len(Temp)):\n",
    "  plt.plot(Energy,Max[:,i],linewidth=1.5,label=f'{Temp[i]} K')\n",
    "plt.title(\"Maxwell distribution:\",fontweight=900)\n",
    "plt.xlabel('Energy [j]')\n",
    "plt.xlim(-0.55,0.05)\n",
    "plt.ylabel('Dist function')\n",
    "plt.ylim(0,500)\n",
    "plt.legend()\n",
    "plt.grid()\n",
    "\n",
    "plt.tight_layout()\n",
    "plt.show()"
   ]
  },
  {
   "cell_type": "markdown",
   "metadata": {},
   "source": [
    "##### Plot Fermi-Dirac Distribution:"
   ]
  },
  {
   "cell_type": "code",
   "execution_count": null,
   "metadata": {},
   "outputs": [],
   "source": [
    "plt.figure(2,figsize=(8,4))\n",
    "for i in range(len(Temp)):\n",
    "  plt.plot(Energy,Fermi[:,i],linewidth=1.5,label=f'{Temp[i]} K')\n",
    "plt.title(\"Fermi-Dirac distribution:\",fontweight=900)\n",
    "plt.xlabel('Energy [j]')\n",
    "plt.xlim(-0.5,0.5)\n",
    "plt.ylabel('Dist function')\n",
    "plt.ylim(0,np.max(Fermi))\n",
    "plt.legend()\n",
    "plt.grid()\n",
    "\n",
    "plt.tight_layout()\n",
    "plt.show()"
   ]
  },
  {
   "cell_type": "markdown",
   "metadata": {},
   "source": [
    "##### Plot Bose-Einstein Distribution:"
   ]
  },
  {
   "cell_type": "code",
   "execution_count": null,
   "metadata": {},
   "outputs": [],
   "source": [
    "plt.figure(3,figsize=(8, 4))\n",
    "for i in range(len(Temp)):\n",
    "    plt.plot(Energy, Bose[:, i], linewidth=1.5, label=f'{Temp[i]} K')\n",
    "\n",
    "plt.title(\"Bose-Einstein distribution:\", fontweight=900)\n",
    "plt.xlabel('Energy [j]')\n",
    "plt.ylabel('Dist function')\n",
    "plt.ylim(-5, 5)  # Adjust y-axis limits as needed\n",
    "plt.legend()\n",
    "plt.grid()\n",
    "plt.tight_layout()\n",
    "plt.show()"
   ]
  }
 ],
 "metadata": {
  "kernelspec": {
   "display_name": "Python 3",
   "language": "python",
   "name": "python3"
  },
  "language_info": {
   "codemirror_mode": {
    "name": "ipython",
    "version": 3
   },
   "file_extension": ".py",
   "mimetype": "text/x-python",
   "name": "python",
   "nbconvert_exporter": "python",
   "pygments_lexer": "ipython3",
   "version": "3.12.1"
  }
 },
 "nbformat": 4,
 "nbformat_minor": 2
}
