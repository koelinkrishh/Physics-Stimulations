{
 "cells": [
  {
   "cell_type": "code",
   "execution_count": 9,
   "metadata": {},
   "outputs": [
    {
     "ename": "Exception",
     "evalue": "Missing/incomplete configuration file: C:\\Users\\koeli/.cdsapirc",
     "output_type": "error",
     "traceback": [
      "\u001b[1;31m---------------------------------------------------------------------------\u001b[0m",
      "\u001b[1;31mException\u001b[0m                                 Traceback (most recent call last)",
      "Cell \u001b[1;32mIn[9], line 3\u001b[0m\n\u001b[0;32m      1\u001b[0m \u001b[38;5;66;03m#!/usr/bin/env python\u001b[39;00m\n\u001b[0;32m      2\u001b[0m \u001b[38;5;28;01mimport\u001b[39;00m \u001b[38;5;21;01mcdsapi\u001b[39;00m\n\u001b[1;32m----> 3\u001b[0m c \u001b[38;5;241m=\u001b[39m \u001b[43mcdsapi\u001b[49m\u001b[38;5;241;43m.\u001b[39;49m\u001b[43mClient\u001b[49m\u001b[43m(\u001b[49m\u001b[43m)\u001b[49m\n\u001b[0;32m      4\u001b[0m c\u001b[38;5;241m.\u001b[39mretrieve(\u001b[38;5;124m'\u001b[39m\u001b[38;5;124mreanalysis-era5.1-complete\u001b[39m\u001b[38;5;124m'\u001b[39m, { \u001b[38;5;66;03m# Requests follow MARS syntax\u001b[39;00m\n\u001b[0;32m      5\u001b[0m     \u001b[38;5;124m'\u001b[39m\u001b[38;5;124mdate\u001b[39m\u001b[38;5;124m'\u001b[39m    : \u001b[38;5;124m'\u001b[39m\u001b[38;5;124m2019-05-01\u001b[39m\u001b[38;5;124m'\u001b[39m,            \u001b[38;5;66;03m# The hyphens can be omitted\u001b[39;00m\n\u001b[0;32m      6\u001b[0m     \u001b[38;5;124m'\u001b[39m\u001b[38;5;124mlevelist\u001b[39m\u001b[38;5;124m'\u001b[39m: \u001b[38;5;124m'\u001b[39m\u001b[38;5;124m100\u001b[39m\u001b[38;5;124m'\u001b[39m,          \u001b[38;5;66;03m# 1 is top level, 137 the lowest model level in ERA5. Use '/' to separate values.\u001b[39;00m\n\u001b[1;32m   (...)\u001b[0m\n\u001b[0;32m     14\u001b[0m     \u001b[38;5;124m'\u001b[39m\u001b[38;5;124mformat\u001b[39m\u001b[38;5;124m'\u001b[39m  : \u001b[38;5;124m'\u001b[39m\u001b[38;5;124mnetcdf\u001b[39m\u001b[38;5;124m'\u001b[39m,                \u001b[38;5;66;03m# Output needs to be regular lat-lon, so only works in combination with 'grid'!\u001b[39;00m\n\u001b[0;32m     15\u001b[0m }, \u001b[38;5;124m'\u001b[39m\u001b[38;5;124mERA5-ml-temperature-subarea.nc\u001b[39m\u001b[38;5;124m'\u001b[39m)     \u001b[38;5;66;03m# Output file. Adapt as you wish.\u001b[39;00m\n",
      "File \u001b[1;32m~\\AppData\\Roaming\\Python\\Python312\\site-packages\\cdsapi\\api.py:304\u001b[0m, in \u001b[0;36mClient.__init__\u001b[1;34m(self, url, key, quiet, debug, verify, timeout, progress, full_stack, delete, retry_max, sleep_max, wait_until_complete, info_callback, warning_callback, error_callback, debug_callback, metadata, forget, session)\u001b[0m\n\u001b[0;32m    301\u001b[0m             verify \u001b[38;5;241m=\u001b[39m \u001b[38;5;28mbool\u001b[39m(\u001b[38;5;28mint\u001b[39m(config\u001b[38;5;241m.\u001b[39mget(\u001b[38;5;124m\"\u001b[39m\u001b[38;5;124mverify\u001b[39m\u001b[38;5;124m\"\u001b[39m, \u001b[38;5;241m1\u001b[39m)))\n\u001b[0;32m    303\u001b[0m \u001b[38;5;28;01mif\u001b[39;00m url \u001b[38;5;129;01mis\u001b[39;00m \u001b[38;5;28;01mNone\u001b[39;00m \u001b[38;5;129;01mor\u001b[39;00m key \u001b[38;5;129;01mis\u001b[39;00m \u001b[38;5;28;01mNone\u001b[39;00m \u001b[38;5;129;01mor\u001b[39;00m key \u001b[38;5;129;01mis\u001b[39;00m \u001b[38;5;28;01mNone\u001b[39;00m:\n\u001b[1;32m--> 304\u001b[0m     \u001b[38;5;28;01mraise\u001b[39;00m \u001b[38;5;167;01mException\u001b[39;00m(\u001b[38;5;124m\"\u001b[39m\u001b[38;5;124mMissing/incomplete configuration file: \u001b[39m\u001b[38;5;132;01m%s\u001b[39;00m\u001b[38;5;124m\"\u001b[39m \u001b[38;5;241m%\u001b[39m (dotrc))\n\u001b[0;32m    306\u001b[0m \u001b[38;5;66;03m# If verify is still None, then we set to default value of True\u001b[39;00m\n\u001b[0;32m    307\u001b[0m \u001b[38;5;28;01mif\u001b[39;00m verify \u001b[38;5;129;01mis\u001b[39;00m \u001b[38;5;28;01mNone\u001b[39;00m:\n",
      "\u001b[1;31mException\u001b[0m: Missing/incomplete configuration file: C:\\Users\\koeli/.cdsapirc"
     ]
    }
   ],
   "source": [
    "   #!/usr/bin/env python\n",
    "   import cdsapi\n",
    "   c = cdsapi.Client()\n",
    "   c.retrieve('reanalysis-era5.1-complete', { # Requests follow MARS syntax\n",
    "       'date'    : '2019-05-01',            # The hyphens can be omitted\n",
    "       'levelist': '100',          # 1 is top level, 137 the lowest model level in ERA5. Use '/' to separate values.\n",
    "       'levtype' : 'ml',\n",
    "       'param'   : '130',                   # Full information at https://apps.ecmwf.int/codes/grib/param-db/\n",
    "       'stream'  : 'oper',                  # Denotes ERA5. Ensemble members are selected by 'enda'\n",
    "       'time'    : '00/to/23/by/6',         # You can drop :00:00 and use MARS short-hand notation, instead of '00/06/12/18'\n",
    "       'type'    : 'an',\n",
    "       'area'    : '80/-50/-25/0',          # North, West, South, East. Default: global\n",
    "       'grid'    : '1.0/1.0',               # Latitude/longitude. Default: spherical harmonics or reduced Gaussian grid\n",
    "       'format'  : 'netcdf',                # Output needs to be regular lat-lon, so only works in combination with 'grid'!\n",
    "   }, 'ERA5-ml-temperature-subarea.nc')     # Output file. Adapt as you wish."
   ]
  }
 ],
 "metadata": {
  "kernelspec": {
   "display_name": "Python 3",
   "language": "python",
   "name": "python3"
  },
  "language_info": {
   "codemirror_mode": {
    "name": "ipython",
    "version": 3
   },
   "file_extension": ".py",
   "mimetype": "text/x-python",
   "name": "python",
   "nbconvert_exporter": "python",
   "pygments_lexer": "ipython3",
   "version": "3.12.1"
  }
 },
 "nbformat": 4,
 "nbformat_minor": 2
}
