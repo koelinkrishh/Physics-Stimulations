{
 "cells": [
  {
   "cell_type": "markdown",
   "metadata": {},
   "source": [
    "### Rotation of Given Polygon:"
   ]
  },
  {
   "cell_type": "code",
   "execution_count": null,
   "metadata": {},
   "outputs": [],
   "source": [
    "import numpy as np\n",
    "import matplotlib.pyplot as plt"
   ]
  },
  {
   "cell_type": "code",
   "execution_count": null,
   "metadata": {},
   "outputs": [],
   "source": [
    "# Co-ordinate of input figure:\n",
    "x = np.array([1,3,3,1,1])\n",
    "y = np.array([1,1,3,3,1])\n",
    "\n",
    "u = np.zeros(len(x),'float')\n",
    "v = np.zeros(len(y),'float')"
   ]
  },
  {
   "cell_type": "code",
   "execution_count": null,
   "metadata": {},
   "outputs": [],
   "source": [
    "# Setting up angle of rotation:\n",
    "angle = float(input(\"Enter the angle of Rotation [Degree]\"))\n",
    "theta = angle*(np.pi/180)\n",
    "\n",
    "# Rotation Matrix:\n",
    "R = np.array([[np.cos(theta),np.sin(theta)],\n",
    "              [-np.sin(theta),np.cos(theta)]])"
   ]
  },
  {
   "cell_type": "code",
   "execution_count": null,
   "metadata": {},
   "outputs": [],
   "source": [
    "# Co-ordinate of ouput figure:\n",
    "for i in range(len(x)):\n",
    "  vec = np.array([x[i],y[i]])\n",
    "  u[i],v[i] = np.round(np.dot(R,vec),6)\n",
    "\n",
    "st1 = '';st2 = '';\n",
    "for i in range(len(x)):\n",
    "  st1 += f'({x[i]},{y[i]}), '\n",
    "  st2 += f'({u[i]},{v[i]}), '\n",
    "\n",
    "\n",
    "print(\"Original co-ordinates:\")\n",
    "print(st1)\n",
    "print(\"Rotated co-ordinates:\")\n",
    "print(st2)"
   ]
  },
  {
   "cell_type": "code",
   "execution_count": null,
   "metadata": {},
   "outputs": [],
   "source": [
    "plt.figure(1,figsize=(10,4))\n",
    "plt.clf()\n",
    "\n",
    "minx = min(min(x),min(u))\n",
    "miny = min(min(y),min(v))\n",
    "maxx = max(max(x),max(u))\n",
    "maxy = max(max(y),max(v))\n",
    "\n",
    "plt.plot(x,y,color='royalblue',linewidth=2)\n",
    "plt.scatter(x,y,s=75,color='darkgreen',zorder=5)\n",
    "plt.plot(u,v,color='darkred',linewidth=2)\n",
    "plt.scatter(u,v,s=75,color='magenta',zorder=5)\n",
    "plt.xlim(minx-0.5,maxx+0.5)\n",
    "plt.ylim(miny-0.5,maxy+0.5)\n",
    "\n",
    "plt.grid()\n",
    "plt.show()"
   ]
  }
 ],
 "metadata": {
  "kernelspec": {
   "display_name": "Python 3",
   "language": "python",
   "name": "python3"
  },
  "language_info": {
   "codemirror_mode": {
    "name": "ipython",
    "version": 3
   },
   "file_extension": ".py",
   "mimetype": "text/x-python",
   "name": "python",
   "nbconvert_exporter": "python",
   "pygments_lexer": "ipython3",
   "version": "3.12.1"
  }
 },
 "nbformat": 4,
 "nbformat_minor": 2
}
