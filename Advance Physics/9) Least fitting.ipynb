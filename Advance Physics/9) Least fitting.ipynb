{
 "cells": [
  {
   "cell_type": "markdown",
   "metadata": {},
   "source": [
    "## Least Curve Fitting:"
   ]
  },
  {
   "cell_type": "code",
   "execution_count": null,
   "metadata": {},
   "outputs": [],
   "source": [
    "import numpy as np\n",
    "import sympy as sp\n",
    "from math import exp\n",
    "\n",
    "a,b,x_var,y_var = sp.symbols('a b x y')"
   ]
  },
  {
   "cell_type": "markdown",
   "metadata": {},
   "source": [
    "#### Q) $y = a + b x$ for \n",
    "| x |  1 |  2 |  3 |  4 |  5 |\n",
    "|---|----|----|----|----|----|\n",
    "| y | 14 | 27 | 40 | 55 | 68 |"
   ]
  },
  {
   "cell_type": "code",
   "execution_count": null,
   "metadata": {},
   "outputs": [],
   "source": [
    "# Given input data\n",
    "x = np.array([1,2,3,4,5])\n",
    "y = np.array([14,27,40,55,68])\n",
    "\n",
    "# Summiations:\n",
    "n = len(x)\n",
    "sumx = sum(x);sumy = sum(y)\n",
    "sumxx = sum(x**2);sumxy = sum(x*y)"
   ]
  },
  {
   "cell_type": "code",
   "execution_count": null,
   "metadata": {},
   "outputs": [],
   "source": [
    "# Solving Equation for a,b\n",
    "eqn = [n*a+sumx*b-sumy,sumx*a+sumxx*b-sumxy]\n",
    "vari = [a,b]\n",
    "\n",
    "soln = sp.solve(eqn,vari)\n",
    "\n",
    "print(\"Equation of following curve:\")\n",
    "print(f'{y_var} = {soln[a]} + {soln[b]}*{x_var}')"
   ]
  },
  {
   "cell_type": "markdown",
   "metadata": {},
   "source": [
    "#### Q) $y = a e^{bx} $ for \n",
    "| x |   2   |   4    |   6    |   8    |    10  |\n",
    "|---|-------|--------|--------|--------|--------|\n",
    "| y | 4.077 | 11.084 | 30.128 | 81.897 | 222.62 |"
   ]
  },
  {
   "cell_type": "code",
   "execution_count": null,
   "metadata": {},
   "outputs": [],
   "source": [
    "x = np.array([2,4,6,8,10])\n",
    "y = np.array([4.077,11.084,30.128,81.897,222.62]) \n",
    "Y = np.log(y)\n",
    "\n",
    "n = len(x)\n",
    "sumx = sum(x);sumy = sum(Y)\n",
    "sumxx = sum(x**2);sumxy = sum(x*Y)\n",
    "\n",
    "eqn = [n*a+sumx*b-sumy,sumx*a+sumxx*b-sumxy]\n",
    "\n",
    "soln = sp.solve(eqn,[a, b])\n",
    "A = soln[a]\n",
    "a_num = round(exp(A),3);b_num = round(soln[b],3)\n",
    "\n",
    "print(\"Equation of following curve:\")\n",
    "print(f'{y_var} = {a_num} + e^({b_num*x_var})')"
   ]
  },
  {
   "cell_type": "markdown",
   "metadata": {},
   "source": [
    "#### Q) $y = a b^{x} $ for \n",
    "| x | 2 |  7 | 13 | 22 |  28 |\n",
    "|---|---|----|----|----|-----|\n",
    "| y | 9 | 14 | 26 | 70 | 130 |"
   ]
  },
  {
   "cell_type": "code",
   "execution_count": null,
   "metadata": {},
   "outputs": [],
   "source": [
    "x = np.array([2,7,13,22,28])\n",
    "y = np.array([9,14,26,70,130]) \n",
    "\n",
    "Y = np.log(y)\n",
    "\n",
    "n = len(x)\n",
    "sumx = sum(x);sumy = sum(Y)\n",
    "sumxx = sum(x**2);sumxy = sum(x*Y)\n",
    "\n",
    "eqn = [n*a+sumx*b-sumy,sumx*a+sumxx*b-sumxy]\n",
    "\n",
    "soln = sp.solve(eqn,[a, b])\n",
    "A = soln[a];B = soln[b]\n",
    "a_num = round(exp(A),4);b_num = round(exp(B),4)\n",
    "\n",
    "print(\"Equation of following curve:\")\n",
    "print(f'{y_var} = {a_num} + {b_num}^({x_var})')"
   ]
  },
  {
   "cell_type": "markdown",
   "metadata": {},
   "source": [
    "#### Q) $y = a x^{b} $ for \n",
    "| x |  80 |  40 |  20 |  10 |  5  |\n",
    "|---|-----|-----|-----|-----|-----|\n",
    "| y | 333 | 375 | 422 | 475 | 533 |"
   ]
  },
  {
   "cell_type": "code",
   "execution_count": null,
   "metadata": {},
   "outputs": [],
   "source": [
    "x = np.array([80,40,20,10,5])\n",
    "y = np.array([333,375,422,475,533]) \n",
    "\n",
    "X = np.log(x);Y = np.log(y)\n",
    "\n",
    "n = len(X)\n",
    "sumx = sum(X);sumy = sum(Y)\n",
    "sumxx = sum(X**2);sumxy = sum(X*Y)\n",
    "\n",
    "eqn = [n*a+sumx*b-sumy,sumx*a+sumxx*b-sumxy]\n",
    "\n",
    "soln = sp.solve(eqn,[a, b])\n",
    "A = soln[a]\n",
    "a_num = round(exp(A),4);b_num = round(soln[b],4)\n",
    "\n",
    "print(\"Equation of following curve:\")\n",
    "print(f'{y_var} = {a_num} + {b_num}^({x_var})')"
   ]
  }
 ],
 "metadata": {
  "kernelspec": {
   "display_name": "Python 3",
   "language": "python",
   "name": "python3"
  },
  "language_info": {
   "codemirror_mode": {
    "name": "ipython",
    "version": 3
   },
   "file_extension": ".py",
   "mimetype": "text/x-python",
   "name": "python",
   "nbconvert_exporter": "python",
   "pygments_lexer": "ipython3",
   "version": "3.12.1"
  }
 },
 "nbformat": 4,
 "nbformat_minor": 2
}
