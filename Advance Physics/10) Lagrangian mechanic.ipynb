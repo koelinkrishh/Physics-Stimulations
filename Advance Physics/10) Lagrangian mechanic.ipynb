{
 "cells": [
  {
   "cell_type": "code",
   "execution_count": null,
   "metadata": {},
   "outputs": [],
   "source": [
    "import numpy as np\n",
    "import sympy as sp\n",
    "from IPython.display import display,Math"
   ]
  },
  {
   "cell_type": "markdown",
   "metadata": {},
   "source": [
    "## Lagrangian mechanic:"
   ]
  },
  {
   "cell_type": "markdown",
   "metadata": {},
   "source": [
    "The idea of Lagrangian mechanics is that kinetic energy and potential energy of a system can be expressed in terms of generalised coordinates and velocity\n",
    "$$T = T(q,\\dot{q}) \\hspace{20mm} V=V(q,\\dot{q})$$\n",
    "\n",
    "defining $L=T-V$, the following equation gives the equations of motion $q(t)$\n",
    "$$\\frac{dL}{dq} - \\frac{d}{dt}\\frac{dL}{d\\dot{q}} = 0 $$"
   ]
  },
  {
   "cell_type": "markdown",
   "metadata": {},
   "source": [
    "#### Q) Linear Harmonic Oscillator:"
   ]
  },
  {
   "cell_type": "code",
   "execution_count": null,
   "metadata": {},
   "outputs": [],
   "source": [
    "t,m,w = sp.symbols(r't m \\omega')\n",
    "x = sp.symbols('x',cls=sp.Function)\n",
    "k = m*w**2\n",
    "x = x(t)\n",
    "\n",
    "# Lagrangian:\n",
    "T = sp.Rational(1,2)*m*(x.diff(t)**2)\n",
    "V = sp.Rational(1,2)*k*(x**2)\n",
    "L = T-V\n",
    "L"
   ]
  },
  {
   "cell_type": "code",
   "execution_count": null,
   "metadata": {},
   "outputs": [],
   "source": [
    "eqn = L.diff(x.diff(t)).diff(t) - L.diff(x)\n",
    "\n",
    "soln = sp.solve(eqn,x.diff(t,2))\n",
    "\n",
    "print(\"solution to Linear harmonic oscillator:\")\n",
    "display(sp.Eq( x.diff(t,2) , soln[0] ))"
   ]
  },
  {
   "cell_type": "markdown",
   "metadata": {},
   "source": [
    "#### Atwood machine:"
   ]
  },
  {
   "cell_type": "code",
   "execution_count": null,
   "metadata": {},
   "outputs": [],
   "source": [
    "t,g,m1,m2,w,leng = sp.symbols(r't g m_1 m_2 \\omega L')\n",
    "x = sp.symbols('x',cls=sp.Function)\n",
    "x = x(t)\n",
    "\n",
    "# Indirectly used variable:\n",
    "y1=-x;y2=-(leng-x)\n",
    "\n",
    "# Lagrangian:\n",
    "T = sp.Rational(1,2)*m1*(x.diff(t)**2) + sp.Rational(1,2)*m2*(x.diff(t)**2)\n",
    "V = m1*g*y1 + m2*g*y2\n",
    "L = T-V\n",
    "# display(T.simplify(),V.simplify(),L)\n",
    "\n",
    "eqn = [L.diff(x.diff(t)).diff(t) - L.diff(x)]\n",
    "soln = sp.solve(eqn[0],x.diff(t,2))[0]\n",
    "\n",
    "print(\"solution to Linear harmonic oscillator:\")\n",
    "display(sp.Eq( x.diff(t,2) , soln ))"
   ]
  },
  {
   "cell_type": "markdown",
   "metadata": {},
   "source": [
    "#### Double Pendulum:"
   ]
  },
  {
   "cell_type": "code",
   "execution_count": null,
   "metadata": {},
   "outputs": [],
   "source": [
    "t,l1,l2,m1,m2,g = sp.symbols(r't l_1 l_2 m_1 m_2 g',real=True,positive=True)\n",
    "v1,v2,theta1,theta2 = sp.symbols(r'v_1 v_2 \\theta_1 \\theta_2 ',cls=sp.Function,real=True)\n",
    "theta1,theta2 = theta1(t),theta2(t)"
   ]
  },
  {
   "cell_type": "code",
   "execution_count": null,
   "metadata": {},
   "outputs": [],
   "source": [
    "# Cartesian co-ordinate of both bobs -> Small angle approximation\n",
    "x1 = l1*sp.sin(theta1)\n",
    "y1 = l1*sp.cos(theta1)\n",
    "x2 = x1 + l2*sp.sin(theta2)\n",
    "y2 = y1 + l2*sp.cos(theta2)\n",
    "\n",
    "'''\n",
    "# First differentiate of co-ordinawte\n",
    "x1cap = x1.diff(t);y1cap = y1.diff(t)\n",
    "x2cap = x2.diff(t);y2cap = y2.diff(t)\n",
    "\n",
    "r1 = sp.Matrix([x1,y1]);r2 = sp.Matrix([x2,y2])\n",
    "v1 = sp.diff(r1,t);v2 = sp.diff(r2,t)\n",
    "'''\n",
    "\n",
    "v1 = sp.Matrix([x1.diff(t), y1.diff(t)])\n",
    "v2 = sp.Matrix([x2.diff(t), y2.diff(t)])"
   ]
  },
  {
   "cell_type": "code",
   "execution_count": null,
   "metadata": {},
   "outputs": [],
   "source": [
    "L,T,V,eqn1,eqn2 = sp.symbols('L T V eq1 eq2',cls=sp.Function,real=True)\n",
    "\n",
    "# Lagrangian:\n",
    "T = sp.Rational(1,2)*m1*(v1.dot(v1)) + sp.Rational(1,2)*m2*(v2.dot(v2))\n",
    "V = m1*g*(-y1) + m2*g*(-y2)\n",
    "L = (T-V).simplify()\n",
    "L"
   ]
  },
  {
   "cell_type": "code",
   "execution_count": null,
   "metadata": {},
   "outputs": [],
   "source": [
    "# Equations of motion\n",
    "eqn1 = (L.diff(theta1.diff(t)).diff(t) - L.diff(theta1)).simplify()\n",
    "eqn2 = (L.diff(theta2.diff(t)).diff(t) - L.diff(theta2)).simplify()\n",
    "\n",
    "# Solve the equations\n",
    "sol = sp.solve([eqn1, eqn2], [theta1.diff(t, 2), theta2.diff(t, 2)],dict=False)\n",
    "T1_doubledash = sol[theta1.diff(t,2).simplify()]\n",
    "T2_doubledash = sol[theta2.diff(t,2).simplify()]\n",
    "\n",
    "print(\"solution to Double Pendulum:\")\n",
    "display(sp.Eq( theta1.diff(t,2) , T1_doubledash ))\n",
    "display(sp.Eq( theta2.diff(t,2) , T2_doubledash ))"
   ]
  },
  {
   "cell_type": "markdown",
   "metadata": {},
   "source": [
    "We can solve $\\theta_1$ and $\\theta_2$ numerically for given value of $m_1,m_2,l_1,l_2$"
   ]
  }
 ],
 "metadata": {
  "kernelspec": {
   "display_name": "Python 3",
   "language": "python",
   "name": "python3"
  },
  "language_info": {
   "codemirror_mode": {
    "name": "ipython",
    "version": 3
   },
   "file_extension": ".py",
   "mimetype": "text/x-python",
   "name": "python",
   "nbconvert_exporter": "python",
   "pygments_lexer": "ipython3",
   "version": "3.12.1"
  }
 },
 "nbformat": 4,
 "nbformat_minor": 2
}
