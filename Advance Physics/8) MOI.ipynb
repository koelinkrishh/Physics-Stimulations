{
 "cells": [
  {
   "cell_type": "markdown",
   "metadata": {},
   "source": [
    "## Moment of Inertia of discrete mass system:"
   ]
  },
  {
   "cell_type": "code",
   "execution_count": null,
   "metadata": {},
   "outputs": [],
   "source": [
    "import numpy as np\n",
    "import sympy as sp\n",
    "import matplotlib.pyplot as plt\n",
    "from mpl_toolkits import mplot3d"
   ]
  },
  {
   "cell_type": "markdown",
   "metadata": {},
   "source": [
    "Given Mass Distribution:"
   ]
  },
  {
   "cell_type": "code",
   "execution_count": null,
   "metadata": {},
   "outputs": [],
   "source": [
    "n = int(input(\"Enter the number of masses: \"))\n",
    "\n",
    "m = np.empty(n)\n",
    "r = np.empty((n,3))\n",
    "modr = np.empty(n)\n",
    "\n",
    "# Input mass and position vectors for each mass\n",
    "for i in range(n):\n",
    "  m[i] = float(input(f\"Enter {i+1} mass[in Kg]:\"))\n",
    "  r[i, 0] = float(input(f\"Enter x{i + 1} [in metres]: \"))\n",
    "  r[i, 1] = float(input(f\"Enter y{i + 1} [in metres]: \"))\n",
    "  r[i, 2] = float(input(f\"Enter z{i + 1} [in metres]: \"))\n",
    "\n",
    "  '''\n",
    "  # Splitting the input string into separate floats for the position vector\n",
    "  position_vector = input(f\"Enter the position vector (x{i+1}, y{i+1}, z{i+1}) [in metres]: \")\n",
    "  r[i, :] = [float(coord) for coord in position_vector.split(',')]\n",
    "  '''\n",
    "  modr[i] = np.linalg.norm(r[i, :])\n",
    "\n",
    "print(\"Masses:\", m)\n",
    "print(\"Position Vectors:\", r)\n",
    "print(\"Modulus of Position Vectors:\", modr)"
   ]
  },
  {
   "cell_type": "markdown",
   "metadata": {},
   "source": [
    "#### Calculating moment of inertia matrix:"
   ]
  },
  {
   "cell_type": "markdown",
   "metadata": {},
   "source": [
    "The moment of inertia matrix $(I)$ for a discrete mass system is given by:\n",
    "\n",
    "$$\n",
    "\\mathbf{I} = \\begin{bmatrix}\n",
    "I_{xx} & I_{xy} & I_{xz} \\\\\n",
    "I_{yx} & I_{yy} & I_{yz} \\\\\n",
    "I_{zx} & I_{zy} & I_{zz}\n",
    "\\end{bmatrix}\n",
    "$$\n",
    "where: \n",
    "$$\n",
    "\\begin{aligned}\n",
    "I_{xx} &= \\sum_{i}^{k} m_i (y_i^2 + z_i^2) \\\\\n",
    "I_{yy} &= \\sum_{i}^{k} m_i (x_i^2 + z_i^2) \\\\\n",
    "I_{zz} &= \\sum_{i}^{k} m_i (x_i^2 + y_i^2) \\\\\n",
    "I_{xy} &= I_{yx} = \\sum_{i}^{k} m_i x_i y_i \\\\\n",
    "I_{xz} &= I_{zx} = \\sum_{i}^{k} m_i x_i z_i \\\\\n",
    "I_{yz} &= I_{zy} = \\sum_{i}^{k} m_i y_i z_i \\\\\n",
    "\\end{aligned} \n",
    "$$\n"
   ]
  },
  {
   "cell_type": "code",
   "execution_count": null,
   "metadata": {},
   "outputs": [],
   "source": [
    "del_ij = np.eye(3)\n",
    "I = np.zeros((3,3)) # MOI matrix\n",
    "\n",
    "for i in range(3): # ROW of I\n",
    "  for j in range(3): # COLUMN of I\n",
    "    elem = 0\n",
    "    for k in range(n): # for each mass\n",
    "      elem += m[k] * (del_ij[i, j] * (modr[k]**2) - r[k, i]*r[k, j])\n",
    "    I[i,j] = round(elem,6)\n",
    "\n",
    "print(\"Moment of Inertia: \")\n",
    "print(I)\n",
    "\n",
    "eigval,eigvect = np.linalg.eig(I)\n",
    "print(\"Eigenvectors:\\n\",eigvect)\n",
    "print(\"Eigenvalues:\",eigval)"
   ]
  },
  {
   "cell_type": "markdown",
   "metadata": {},
   "source": [
    "##### Plotting Principal Axis:"
   ]
  },
  {
   "cell_type": "code",
   "execution_count": null,
   "metadata": {},
   "outputs": [],
   "source": [
    "%matplotlib qt"
   ]
  },
  {
   "cell_type": "code",
   "execution_count": 21,
   "metadata": {},
   "outputs": [],
   "source": [
    "# Plotting principal axes and masses\n",
    "Lim = max(abs(modr)) + 1\n",
    "t = np.linspace(-Lim, Lim, 500)\n",
    "\n",
    "fig = plt.figure(1)\n",
    "ax = fig.add_subplot(111, projection='3d')\n",
    "\n",
    "# Plotting all masses\n",
    "for z in range(n):\n",
    "  ax.scatter(r[z, 0], r[z, 1], r[z, 2], s=60, c='tomato')\n",
    "\n",
    "# Plotting all principal axis\n",
    "for vectcount in range(3):\n",
    "  px = eigvect[0, vectcount] * t\n",
    "  py = eigvect[1, vectcount] * t\n",
    "  pz = eigvect[2, vectcount] * t\n",
    "  ax.plot(px, py, pz, linestyle='dashed', )#label=f'Eigenvector {vectcount + 1}')\n",
    "\n",
    "# Plotting x, y, z axes\n",
    "ax.plot([-Lim, Lim], [0, 0], [0, 0], color='black', linewidth=2, alpha=0.5)  # x-axis\n",
    "ax.plot([0, 0], [-Lim, Lim], [0, 0], color='black', linewidth=2, alpha=0.5)  # y-axis\n",
    "ax.plot([0, 0], [0, 0], [-Lim, Lim], color='black', linewidth=2, alpha=0.5)  # z-axis\n",
    "\n",
    "ax.set_xlabel(\"X-axis\")\n",
    "ax.set_ylabel(\"Y-axis\")\n",
    "ax.set_zlabel(\"Z-axis\")\n",
    "ax.set_title('Principal axis plot', color='Black',fontsize=14)\n",
    "\n",
    "fig.subplots_adjust(left=0.1, right=0.9, top=0.9, bottom=0.1)\n",
    "# plt.legend()\n",
    "plt.show()"
   ]
  }
 ],
 "metadata": {
  "kernelspec": {
   "display_name": "Python 3",
   "language": "python",
   "name": "python3"
  },
  "language_info": {
   "codemirror_mode": {
    "name": "ipython",
    "version": 3
   },
   "file_extension": ".py",
   "mimetype": "text/x-python",
   "name": "python",
   "nbconvert_exporter": "python",
   "pygments_lexer": "ipython3",
   "version": "3.12.1"
  }
 },
 "nbformat": 4,
 "nbformat_minor": 2
}
