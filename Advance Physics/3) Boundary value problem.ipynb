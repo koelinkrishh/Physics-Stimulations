{
 "cells": [
  {
   "cell_type": "markdown",
   "metadata": {},
   "source": [
    "#### Solving Boundary value problems:"
   ]
  },
  {
   "cell_type": "code",
   "execution_count": null,
   "metadata": {},
   "outputs": [],
   "source": [
    "import numpy as np\n",
    "import pandas as pd\n",
    "import scipy as sci\n",
    "import matplotlib.pyplot as plt"
   ]
  },
  {
   "cell_type": "markdown",
   "metadata": {},
   "source": [
    "Q) Solve the differential equation using finite difference method:<br> Problem specific method <br>\n",
    "$ y''(x) + y(x) = 0$  with $\\space y(0) = 1 , y(\\pi/2) = 1$ for  0<x<$\\pi$ "
   ]
  },
  {
   "cell_type": "markdown",
   "metadata": {},
   "source": [
    "->$ y'' = \\frac{y_{i+1} -2y_{i} + y_{i-1}}{h^2} = -y_i $ <br>\n",
    "->$  y_{i+1} -2y_{i} + y_{i-1}  -y_i h^2 = 0 $ <br>\n",
    "->$ y_{i+1} -(2+h^2)y_{i} + y_{i-1}  = 0 $ <br>"
   ]
  },
  {
   "cell_type": "code",
   "execution_count": null,
   "metadata": {},
   "outputs": [],
   "source": [
    "n = 100 # odd due to boundary value given b/w range\n",
    "x0=0; xn=sci.constants.pi;\n",
    "h = (xn-x0)/n\n",
    "y0=1; ybar=1\n",
    "\n",
    "x = np.linspace(x0,xn,n)\n",
    "A = np.zeros((n,n))\n",
    "b = np.zeros(n)"
   ]
  },
  {
   "cell_type": "code",
   "execution_count": null,
   "metadata": {},
   "outputs": [],
   "source": [
    "# Setting up A\n",
    "for i in range(len(A)):\n",
    "    if i > 0:\n",
    "        A[i, i - 1] = 1\n",
    "    if i < len(A) - 1:\n",
    "        A[i, i + 1] = 1\n",
    "    A[i, i] = -(2+h**2)\n",
    "\n",
    "# Setting up B\n",
    "b[0] = -y0;b[int(n/2)] = -ybar\n",
    "\n",
    "# Solving the system of Equation:\n",
    "y = np.linalg.solve(A, b)"
   ]
  },
  {
   "cell_type": "code",
   "execution_count": null,
   "metadata": {},
   "outputs": [],
   "source": [
    "plt.figure(figsize=(10,6))\n",
    "plt.plot(x,y,'ro-')\n",
    "plt.grid()\n",
    "plt.ylabel('Solution [y]',fontsize=16)\n",
    "plt.xlabel('Input range [x]',fontsize=15)\n",
    "plt.show()"
   ]
  },
  {
   "cell_type": "markdown",
   "metadata": {},
   "source": [
    "Q) Solve the differential equation using finite difference method:<br> <br>\n",
    "$ y''(x) - y(x) = 0$  with $\\space y(0) = 1 , y(1) = 0$"
   ]
  },
  {
   "cell_type": "markdown",
   "metadata": {},
   "source": [
    "->$ y'' = \\frac{y_{i+1} -2y_{i} + y_{i-1}}{h^2} = y_i $ <br>\n",
    "->$  y_{i+1} -2y_{i} + y_{i-1}  +y_i h^2 = 0 $ <br>\n",
    "->$ y_{i+1} -(2-h^2)y_{i} + y_{i-1}  = 0 $ <br>"
   ]
  },
  {
   "cell_type": "code",
   "execution_count": null,
   "metadata": {},
   "outputs": [],
   "source": [
    "n = 100 # odd due to boundary value given b/w range\n",
    "x0=0; xn=1;\n",
    "h = (xn-x0)/n\n",
    "y0=1; yn=0\n",
    "\n",
    "x = np.linspace(x0,xn,n)\n",
    "A = np.zeros((n,n))\n",
    "b = np.zeros(n)"
   ]
  },
  {
   "cell_type": "code",
   "execution_count": null,
   "metadata": {},
   "outputs": [],
   "source": [
    "# Setting up A\n",
    "for i in range(len(A)):\n",
    "    if i > 0:\n",
    "        A[i, i - 1] = 1\n",
    "    if i < len(A) - 1:\n",
    "        A[i, i + 1] = 1\n",
    "    A[i, i] = -(2 - h**2)\n",
    "\n",
    "# Setting up B\n",
    "b[0] = y0;b[-1] = yn\n",
    "\n",
    "# Solving the system of Equation:\n",
    "y = np.linalg.solve(A, b)"
   ]
  },
  {
   "cell_type": "code",
   "execution_count": null,
   "metadata": {},
   "outputs": [],
   "source": [
    "plt.figure(figsize=(10,6))\n",
    "plt.plot(x,y,color='magenta',marker = \"o\",markersize = 6)\n",
    "plt.grid()\n",
    "plt.ylabel('Solution [y]',fontsize=16)\n",
    "plt.xlabel('Input range [x]',fontsize=15)\n",
    "plt.show()"
   ]
  }
 ],
 "metadata": {
  "kernelspec": {
   "display_name": "Python 3",
   "language": "python",
   "name": "python3"
  },
  "language_info": {
   "codemirror_mode": {
    "name": "ipython",
    "version": 3
   },
   "file_extension": ".py",
   "mimetype": "text/x-python",
   "name": "python",
   "nbconvert_exporter": "python",
   "pygments_lexer": "ipython3",
   "version": "3.12.1"
  }
 },
 "nbformat": 4,
 "nbformat_minor": 2
}
