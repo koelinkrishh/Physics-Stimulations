{
 "cells": [
  {
   "cell_type": "code",
   "execution_count": null,
   "metadata": {},
   "outputs": [],
   "source": [
    "import numpy as np\n",
    "import sympy as sp\n",
    "from math import factorial as fact\n",
    "import matplotlib.pyplot as plt\n",
    "from IPython.display import display,Math\n",
    "\n",
    "from sympy import assoc_legendre,assoc_laguerre"
   ]
  },
  {
   "cell_type": "markdown",
   "metadata": {},
   "source": [
    "### Equation For Atomic Wavefunction: <br>\n",
    "$$\\psi_{n,l,m_l}(r,\\theta,\\phi) = R_{n,l}(r) Y_{l,m_l}(\\theta.\\phi)$$"
   ]
  },
  {
   "cell_type": "code",
   "execution_count": null,
   "metadata": {},
   "outputs": [],
   "source": [
    "n,l,r = sp.symbols('n l r',real=True,postive=True)\n",
    "Z,a0 = sp.symbols('Z a0',real=True,positive=True,nonzero=True)\n",
    "ml,th,phi = sp.symbols(r'm_l \\theta \\phi',real=True)\n",
    "psi,R,Y = sp.symbols(r'\\psi R Y',cls=sp.Function)\n",
    "\n",
    "R = R(r)\n",
    "Y = Y(th,phi)\n",
    "psi = R*Y # psi(r,th,phi)\n",
    "psi"
   ]
  },
  {
   "cell_type": "markdown",
   "metadata": {},
   "source": [
    "A) Angular part:\n",
    "$$\\space Y_{l,m_l}(\\theta,\\phi) = (-1)^{m_l} \\sqrt{\\frac{(2l+1) \\space (l-m_l)!}{4\\pi \\space (l+m_l)!}} e^{im_l\\phi} P_{l}^{m_l}(cos\\theta) , m_l \\geq 0  $$\n",
    "where $P_{l}^{m_l}$  is associated legendre\n",
    "$$ where \\space P_{n}^{m}(x) = (1-x^2)^{m/2} \\frac{d^m (P_n(\\zeta))}{d x^{m}} $$\n",
    "$ P_l $ = Legendre polynomials"
   ]
  },
  {
   "cell_type": "code",
   "execution_count": null,
   "metadata": {},
   "outputs": [],
   "source": [
    "n,m,x = sp.symbols('n m x')\n",
    "# display(assoc_legendre(3,1,x))\n",
    "# assoc_legendre(n,m,x)"
   ]
  },
  {
   "cell_type": "code",
   "execution_count": null,
   "metadata": {},
   "outputs": [],
   "source": [
    "Sign = (-1)**abs(ml)\n",
    "Sqrt = sp.sqrt( ((2*l+1)*sp.factorial(l-abs(ml))) / (4*sp.pi*sp.factorial(l+abs(ml))) )\n",
    "Exp = sp.exp(sp.I*ml*phi)\n",
    "\n",
    "Legend = assoc_legendre(l,ml,sp.cos(th))\n",
    "\n",
    "# Combine the components into the spherical harmonic\n",
    "Y = Sign * Sqrt * Exp * Legend\n",
    "print(\"Angular part of Wavefunction:\")\n",
    "display(Y)"
   ]
  },
  {
   "cell_type": "code",
   "execution_count": null,
   "metadata": {},
   "outputs": [],
   "source": [
    "# Correction for numerical value\n",
    "scaling_factor = sp.factorial(l-ml)/Sign\n",
    "Legend = scaling_factor*assoc_legendre(l,ml,sp.cos(th))\n",
    "\n",
    "Y = Sign * Sqrt * Exp * Legend"
   ]
  },
  {
   "cell_type": "code",
   "execution_count": null,
   "metadata": {},
   "outputs": [],
   "source": [
    "lmax = 1# int(input(\"Enter value of angular quantum number [l]:\"))\n",
    "\n",
    "l_num = range(lmax+1)\n",
    "ml_num = range(-lmax,lmax+1)\n",
    "\n",
    "for l_val in l_num:\n",
    "  print(f\"Spherical harmonics for l={l_val}: \")\n",
    "  for ml_val in ml_num:\n",
    "    if abs(ml_val)>l_val:\n",
    "      pass\n",
    "    else:\n",
    "      # display(Legend.subs({l: l_val, ml: ml_val}))\n",
    "      display(Y.subs({l: l_val, ml: ml_val}).simplify())"
   ]
  },
  {
   "cell_type": "markdown",
   "metadata": {},
   "source": [
    "$$B)\\space R_{n,l}(r) = - \\sqrt{(\\rho/r)^3 \\frac{(n-l-1)!}{2n[(n+l)!]^3}} e^{-\\rho/2} \\rho^l L_{n+l}^{2l+1}(\\rho) $$\n",
    "where $\\rho = \\frac{2Zr}{na_0},L_{n+l}^{2l+1}$  is associated laguarre\n",
    "$$ where \\space  L_{n}^{k}(x) = (-1)^{n} \\frac{d^n}{d x^n}(Lag_{n+k}(x)) $$\n",
    "$ Lag_{n+k}(x)$ = Laguerre polynomials"
   ]
  },
  {
   "cell_type": "code",
   "execution_count": null,
   "metadata": {},
   "outputs": [],
   "source": [
    "n,m,x = sp.symbols('n m x')\n",
    "# display(assoc_laguerre(3,1,x))\n",
    "# assoc_laguerre(n,m,x)"
   ]
  },
  {
   "cell_type": "markdown",
   "metadata": {},
   "source": [
    "##### note : $\\Gamma(n+1) = n!$\n",
    "while the book might use a different notation or convention, both \n",
    "$L_{n+l}^{2l+1}(\\rho)$ and $L_{n-l-1}^{2l+1}(\\rho)$ can lead to correct results depending on how the polynomial properties and arguments are handled. \n",
    "In your case, using $L_{n+l}^{2l+1}(\\rho)$ in the implementation with SymPy is appropriate and aligns with standard practices in computational quantum mechanics."
   ]
  },
  {
   "cell_type": "code",
   "execution_count": null,
   "metadata": {},
   "outputs": [],
   "source": [
    "rho = (2*Z*r)/(n*a0)\n",
    "\n",
    "sqrt = sp.sqrt(  ((rho/r)**3)*(sp.factorial(n-l-1))/(2*n*(sp.factorial(n+l))**3)  )\n",
    "exp = sp.exp(-rho/2)\n",
    "Lag = assoc_laguerre(n-l-1,2*l+1,rho)\n",
    "\n",
    "# combined all associated terms\n",
    "R = sqrt*exp*(rho**l)*Lag\n",
    "print(\"Radial part of Wavefunction:\")\n",
    "display(R)"
   ]
  },
  {
   "cell_type": "code",
   "execution_count": null,
   "metadata": {},
   "outputs": [],
   "source": [
    "Z_num = 1#int(input(\"Enter Atomic number:\"))\n",
    "num = 2 # int(input(\"Enter principal quantum no. :\"))\n",
    "\n",
    "n_num = range(1,num+1)\n",
    "l_num = range(num)\n",
    "\n",
    "for n_val in n_num:\n",
    "  print(f\"Radial wavefunction for n={n_val}: \")\n",
    "  for l_val in l_num:\n",
    "    if l_val>=n_val:\n",
    "      pass\n",
    "    else:\n",
    "      print(n_val,l_val)\n",
    "      # display(Legend.subs({l: l_val, ml: ml_val}))\n",
    "      display(R.subs({Z: Z_num, n: n_val, l: l_val}).simplify())"
   ]
  },
  {
   "cell_type": "markdown",
   "metadata": {},
   "source": [
    "Plotting both functions:"
   ]
  },
  {
   "cell_type": "code",
   "execution_count": null,
   "metadata": {},
   "outputs": [],
   "source": [
    "# # Define values for plotting\n",
    "# a0_val = 0.529e-10\n",
    "# r_vals = np.linspace(0, 10*a0_val, 500)  # Values of r from 0 to 4*a0\n",
    "\n",
    "# # Case 1: Z=1, n=1, l=0\n",
    "# R_case1 = R.subs({Z: Z_num, n: 1, l: 0, a0: a0_val})\n",
    "# R_func1 = sp.lambdify(r, R_case1, 'numpy')\n",
    "\n",
    "# # Case 2: Z=1, n=2, l=0 and l=1\n",
    "# R_case2 = [R.subs({Z: Z_num, n: 2, l: l_val, a0: a0_val}) for l_val in range(2)]\n",
    "# R_func2 = [sp.lambdify(r, R_case2[i], 'numpy') for i in range(2)]\n",
    "\n",
    "# # Plotting\n",
    "# plt.figure(1)\n",
    "# # Plot for Case 1: Z=1, n=1, l=0\n",
    "# plt.subplot(2, 1, 1)\n",
    "# plt.plot(r_vals, R_func1(r_vals), label=f'n={1},l=0')\n",
    "# plt.axvline(0,color='black',linewidth=2,linestyle='dashed')\n",
    "# plt.axhline(0,color='black',linewidth=2,linestyle='dashed')\n",
    "# plt.title('Radial Wavefunction for ground state')\n",
    "# plt.xlabel('r')\n",
    "# plt.ylabel('R(r)')\n",
    "# plt.grid(True)\n",
    "# plt.legend()\n",
    "\n",
    "# plt.figure(2)\n",
    "# # Plot for Case 2: Z=1, n=2, l=0 and l=1\n",
    "# for i in range(2):\n",
    "#   plt.plot(r_vals, R_func2[i](r_vals),linewidth=3, label=f'n={2},l={range(2)[i]}')\n",
    "# plt.axvline(0,color='black',linewidth=1.2)\n",
    "# plt.axhline(0,color='black',linewidth=1.2)\n",
    "# plt.title('Radial Wavefunctions for 1st excited state')\n",
    "# plt.xlabel('r')\n",
    "# plt.ylabel('R(r)')\n",
    "# plt.grid(True)\n",
    "# plt.legend()\n",
    "\n",
    "# plt.tight_layout()\n",
    "# plt.show()"
   ]
  },
  {
   "cell_type": "markdown",
   "metadata": {},
   "source": [
    "### Complete Wavefunction:"
   ]
  },
  {
   "cell_type": "code",
   "execution_count": null,
   "metadata": {},
   "outputs": [],
   "source": [
    "psi = R*Y\n",
    "print(\"Wavefunction:\")\n",
    "display(psi)"
   ]
  },
  {
   "cell_type": "code",
   "execution_count": null,
   "metadata": {},
   "outputs": [],
   "source": [
    "# Setting value:\n",
    "Zval = 1#int(input(\"Enter Atomic number:\"))\n",
    "num = 2 # int(input(\"Enter principal quantum no. :\"))\n",
    "\n",
    "N_arr = range(1,num+1)\n",
    "L_arr = range(num)\n",
    "\n",
    "for prin in N_arr:\n",
    "  for ang in L_arr:\n",
    "    ML_arr = range(-ang,ang+1)\n",
    "    for azim in ML_arr:\n",
    "      if ang>=prin:\n",
    "        pass\n",
    "      else:\n",
    "        print(f\"Atomic wavefunction for n={prin},l={ang},ml={azim}: \")\n",
    "        # display(psi.subs({Z:Zval, n: prin, l: ang, ml: azim}))\n",
    "        display(psi.subs({Z:Zval, n: prin, l: ang, ml: azim}).simplify())"
   ]
  },
  {
   "cell_type": "markdown",
   "metadata": {},
   "source": [
    "Q-1) For a ground state hydrogen atom radial function <br>\n",
    "<b><pre>\n",
    "a) Most probable distance                               b) Maximum probability for this function\n",
    "c) Average distance of electron from nucleus            d) Prob. of finding $e^-$ at distance less than $a_0$\n",
    "e) Prob of finding $e^-$  b/w $\\frac{a_0}{2}$ to $2a_0$                    f) Prob. of finding $e^-$ outside Bohr's radius\n",
    "g) $<r^2>$                                               h) $<\\frac{1}{r}>$\n",
    "<pre><b>"
   ]
  },
  {
   "cell_type": "code",
   "execution_count": null,
   "metadata": {},
   "outputs": [],
   "source": [
    "def calc_rkmean(k,atomic = 1 ,prin=1,ang=0,azim=0):\n",
    "  wave = psi.subs({Z:atomic, n: prin, l: ang, ml: azim})\n",
    "  conj_wave = sp.conjugate(wave)\n",
    "  intg = 4*sp.pi*conj_wave*(r**(k+2))*wave\n",
    "  return sp.integrate(intg,(r,0,sp.oo))"
   ]
  },
  {
   "cell_type": "code",
   "execution_count": null,
   "metadata": {},
   "outputs": [],
   "source": [
    "ground_psi = psi.subs([(n,1),(l,0),(ml,0),(Z,1)])\n",
    "integrand = 4*sp.pi*(r**2)*(ground_psi**2)\n",
    "# A) Most probable distace -> P = integrate [4 pi r^2 R^2]\n",
    "MPD = sp.solve(integrand.diff(r),r)[1]\n",
    "print(\"Most Probable Distance : \",MPD)\n",
    "\n",
    "# B) Maximum probability:\n",
    "Max_prob = integrand.subs([(r,MPD)])\n",
    "display(\"Maximum Probability : \",Max_prob)\n",
    "\n",
    "# C) Average distance from nucleus -> <r>\n",
    "print('Average distance from nucleus:')\n",
    "calc_rkmean(k=1)"
   ]
  },
  {
   "cell_type": "code",
   "execution_count": null,
   "metadata": {},
   "outputs": [],
   "source": [
    "# D) Prob b/w 0 to a0\n",
    "Prob1 = sp.integrate(integrand,(r,0,a0))\n",
    "print(\"Prob. of electron below a0 : \",round(Prob1.evalf()*100,2),'% i.e., ')\n",
    "display(Prob1)\n",
    "\n",
    "# E) Prob b/w a0/2 to 2*a0\n",
    "Prob2 = sp.integrate(integrand,(r,a0/2,2*a0))\n",
    "print('Prob. of electron b/w a0/2 to 2*a0 : ',round(Prob2.evalf()*100,2),'% i.e., ')\n",
    "display(Prob2)\n",
    "\n",
    "# F) Prob b/w a0 to infinity\n",
    "Prob3 = sp.integrate(integrand,(r,a0,sp.oo)) # 1-Prob1\n",
    "print(\"Prob of electron outside bohr's radius : \",round(100*Prob3.evalf(),2), '% i.e.,')\n",
    "display(Prob3)"
   ]
  },
  {
   "cell_type": "code",
   "execution_count": null,
   "metadata": {},
   "outputs": [],
   "source": [
    "# G) Mean of r^2 -> <r^2>\n",
    "print(r\"Mean of <r^2> :\")\n",
    "display(calc_rkmean(k=2))\n",
    "\n",
    "# H) mean of 1/r -> <1/r>\n",
    "print(r\"Mean of <1/r> :\")\n",
    "display(calc_rkmean(k=-1))"
   ]
  }
 ],
 "metadata": {
  "kernelspec": {
   "display_name": "Python 3",
   "language": "python",
   "name": "python3"
  },
  "language_info": {
   "codemirror_mode": {
    "name": "ipython",
    "version": 3
   },
   "file_extension": ".py",
   "mimetype": "text/x-python",
   "name": "python",
   "nbconvert_exporter": "python",
   "pygments_lexer": "ipython3",
   "version": "3.12.1"
  }
 },
 "nbformat": 4,
 "nbformat_minor": 2
}
