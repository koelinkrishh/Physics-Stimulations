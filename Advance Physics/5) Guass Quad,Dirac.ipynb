{
 "cells": [
  {
   "cell_type": "markdown",
   "metadata": {},
   "source": [
    "### Guass Quadrature Integration Method:"
   ]
  },
  {
   "cell_type": "code",
   "execution_count": 1,
   "metadata": {},
   "outputs": [],
   "source": [
    "import scipy as sci\n",
    "import numpy as np\n",
    "import sympy as sp\n",
    "from math import pow\n",
    "from IPython.display import display, Math"
   ]
  },
  {
   "cell_type": "markdown",
   "metadata": {},
   "source": [
    "##### Verification pf Orthogonality of Legendre Polynomial"
   ]
  },
  {
   "cell_type": "code",
   "execution_count": 2,
   "metadata": {},
   "outputs": [
    {
     "data": {
      "text/latex": [
       "$\\displaystyle \\int_{-1}^{1} P_m(x) P_n(x) \\, dx = 0.2222222222$"
      ],
      "text/plain": [
       "<IPython.core.display.Math object>"
      ]
     },
     "metadata": {},
     "output_type": "display_data"
    },
    {
     "name": "stdout",
     "output_type": "stream",
     "text": [
      "Checking Answer :  0.2222222222222222\n"
     ]
    }
   ],
   "source": [
    "m = int(input(\"Enter m :\"))\n",
    "n = int(input(\"Enter n :\"))\n",
    "\n",
    "P_m = sci.special.legendre(m)\n",
    "P_n = sci.special.legendre(n)\n",
    "\n",
    "Fx = lambda x:P_m(x)*P_n(x)\n",
    "\n",
    "# Orthogonality integral\n",
    "integ = sci.integrate.quad(Fx,-1,+1)[0]\n",
    "display(Math(f\"\\\\int_{{-1}}^{{1}} P_m(x) P_n(x) \\\\, dx = {round(integ, 10)}\"))\n",
    "\n",
    "#Checking answer\n",
    "Check = 2/(2*m+1) if m==n else 0\n",
    "print(\"Checking Answer : \",Check)"
   ]
  },
  {
   "cell_type": "markdown",
   "metadata": {},
   "source": [
    "##### Complex analysis"
   ]
  },
  {
   "cell_type": "code",
   "execution_count": 3,
   "metadata": {},
   "outputs": [
    {
     "data": {
      "text/latex": [
       "$\\displaystyle \\int_{0}^{\\infty} \\frac{1}{x^2 + 2} \\, dx = 1.11072073$"
      ],
      "text/plain": [
       "<IPython.core.display.Math object>"
      ]
     },
     "metadata": {},
     "output_type": "display_data"
    },
    {
     "name": "stdout",
     "output_type": "stream",
     "text": [
      "Checking Answer :  1.1107207345395915\n"
     ]
    }
   ],
   "source": [
    "def compint(x):\n",
    "  return 1/(x**2 + 2)\n",
    "\n",
    "Intg = sci.integrate.quad(compint,0,np.inf)[0]\n",
    "display(Math(f\"\\\\int_{{0}}^{{\\\\infty}} \\\\frac{{1}}{{x^2 + 2}} \\\\, dx = {round(Intg, 8)}\"))\n",
    "\n",
    "#Checking answer\n",
    "Check = np.pi/(2*np.sqrt(2))\n",
    "print(\"Checking Answer : \",Check)"
   ]
  },
  {
   "cell_type": "markdown",
   "metadata": {},
   "source": [
    "### Dirac Delta:"
   ]
  },
  {
   "cell_type": "code",
   "execution_count": 4,
   "metadata": {},
   "outputs": [
    {
     "name": "stdout",
     "output_type": "stream",
     "text": [
      "Integral for sigma=1: 5\n",
      "Integral for sigma=0.1: 5.00000000000000\n",
      "Integral for sigma=0.01: 5.00000000000000\n"
     ]
    }
   ],
   "source": [
    "d=2;sigma=[1,0.1,0.01]\n",
    "\n",
    "x = sp.symbols('x')\n",
    "\n",
    "def func(s):\n",
    "  sig = s**2\n",
    "  Dirac =  sp.exp(-(x-2)**2 / (2* sig)) *(x+3)\n",
    "  Dirac_intg = sp.integrate(Dirac,(x,-sp.oo,sp.oo))\n",
    "  # Normalize the integral                                              \n",
    "  Intg = (1/sp.sqrt(2*sp.pi* sig)) *Dirac_intg\n",
    "  return Intg\n",
    "\n",
    "for s in sigma:\n",
    "  result = func(s)\n",
    "  print(f\"Integral for sigma={s}: {result}\")"
   ]
  }
 ],
 "metadata": {
  "kernelspec": {
   "display_name": "Python 3",
   "language": "python",
   "name": "python3"
  },
  "language_info": {
   "codemirror_mode": {
    "name": "ipython",
    "version": 3
   },
   "file_extension": ".py",
   "mimetype": "text/x-python",
   "name": "python",
   "nbconvert_exporter": "python",
   "pygments_lexer": "ipython3",
   "version": "3.12.1"
  }
 },
 "nbformat": 4,
 "nbformat_minor": 2
}
