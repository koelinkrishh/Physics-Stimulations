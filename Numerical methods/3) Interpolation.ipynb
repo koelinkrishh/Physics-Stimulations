{
 "cells": [
  {
   "cell_type": "code",
   "execution_count": null,
   "metadata": {},
   "outputs": [],
   "source": [
    "import numpy as np\n",
    "import math,inspect\n",
    "import pandas as pd\n",
    "\n",
    "# Set print options to suppress scientific notation\n",
    "np.set_printoptions(suppress=True)"
   ]
  },
  {
   "cell_type": "markdown",
   "metadata": {},
   "source": [
    "## Interpolation:\n",
    "Interpolation is the process of estimating the value of a function at a data point\n",
    "\n",
    "There are two type of interpolation methods:\n",
    "A ) Equal intervals B ) Unequal intervals"
   ]
  },
  {
   "cell_type": "markdown",
   "metadata": {},
   "source": [
    "#### Equal Intervals:"
   ]
  },
  {
   "cell_type": "code",
   "execution_count": null,
   "metadata": {},
   "outputs": [],
   "source": [
    "# Quesion\n",
    "x = np.array([0.1,0.2,0.3,0.4,0.5])\n",
    "n = np.size(x)\n",
    "h = x[1]-x[0]\n",
    "\n",
    "y = np.zeros((n,n),dtype='float64')\n",
    "Fx = np.array([1.40,1.56,1.76,2.00,2.28])\n",
    "y[:,0] = Fx"
   ]
  },
  {
   "cell_type": "code",
   "execution_count": null,
   "metadata": {},
   "outputs": [],
   "source": [
    "# Difference Table\n",
    "for j in range(1,n):\n",
    "    for i in range(0,n-j):\n",
    "        y[i,j] = y[i+1,j-1] - y[i,j-1]\n",
    "    # Set elements close to zero to zero\n",
    "        if abs(y[i, j]) < 1e-8:  # Adjust the threshold as needed\n",
    "            y[i, j] = 0\n",
    "\n",
    "y = np.round(y[:,:],6)\n",
    "print(y)"
   ]
  },
  {
   "cell_type": "markdown",
   "metadata": {},
   "source": [
    "Newton Forward Interpolation :-"
   ]
  },
  {
   "cell_type": "code",
   "execution_count": null,
   "metadata": {},
   "outputs": [],
   "source": [
    "# Func = summation [ coefficients * nth_delta ]\n",
    "print('Newtons Foward difference Method:')\n",
    "target = [0.25,0.35] #float(input('Enter the value to calculate func at :  '))\n",
    "\n",
    "Coeff = np.zeros(n)\n",
    "\n",
    "def NFI(X):\n",
    "  p = round( ((X-x[0])/h) , 8)\n",
    "  Sum = 0\n",
    "  for k in range(n):\n",
    "    Prod = 1\n",
    "    for z in range(k):\n",
    "      Prod = Prod * (p-z)\n",
    "    \n",
    "    Coeff[k] = Prod/ math.factorial(k)\n",
    "    Sum += Coeff[k]* y[0,k]\n",
    "  return Sum\n",
    "\n",
    "print(f'Value y at x = {target[0]} =  { round( NFI(target[0]),5 ) }')\n",
    "print(f'Value y at x = {target[1]} =  { round( NFI(target[1]),5 ) }')\n"
   ]
  },
  {
   "cell_type": "markdown",
   "metadata": {},
   "source": [
    "Nweton backward difference : "
   ]
  },
  {
   "cell_type": "code",
   "execution_count": null,
   "metadata": {},
   "outputs": [],
   "source": [
    "# Func = summation [ coefficients * nth_delta ]\n",
    "print('Newtons Backward difference Method:')\n",
    "\n",
    "target = [0.25,0.35] #float(input('Enter the value to calculate func at :  '))\n",
    "\n",
    "Coeff = np.zeros(n)\n",
    "\n",
    "def NBI(X):\n",
    "  p = round( ((x[n]-X)/h) , 8)\n",
    "  Sum = 0\n",
    "  for k in range(n):\n",
    "    Prod = 1\n",
    "    for z in range(k):\n",
    "      Prod = Prod * (p+z)\n",
    "        \n",
    "    #print('Prod :',Prod)\n",
    "    #print('del_y :',y[1,k])\n",
    "    #print('Factorial :',math.factorial(k))\n",
    "    \n",
    "    Coeff[k] = Prod/ math.factorial(k)\n",
    "    Sum += Coeff[k]* y[k,k]\n",
    "  return Sum\n",
    "\n",
    "print(f'Value y at x = {target[0]} =  { round( NFI(target[0]),5 ) }')\n",
    "print(f'Value y at x = {target[1]} =  { round( NFI(target[1]),5 ) }')\n"
   ]
  },
  {
   "cell_type": "markdown",
   "metadata": {},
   "source": [
    "#### Unequal intervals: "
   ]
  },
  {
   "cell_type": "markdown",
   "metadata": {},
   "source": [
    "##### Lagrange's interpolation:"
   ]
  },
  {
   "cell_type": "code",
   "execution_count": null,
   "metadata": {},
   "outputs": [],
   "source": [
    "x = np.array([2,3,4])\n",
    "y = np.array([1.414,1.732,2])\n",
    "\n",
    "m = np.size(x)\n",
    "n = 3 # int(input(\"Enter the degree of Lagrange's polynomial : \"))\n",
    "\n",
    "Target = 2.8 # float(input(\"Enter the point to calculate x : \"))\n",
    "\n",
    "# Coefficients array\n",
    "Coeff = np.zeros(m)"
   ]
  },
  {
   "cell_type": "code",
   "execution_count": null,
   "metadata": {},
   "outputs": [],
   "source": [
    "# Lagrange polynomial :\n",
    "def LP(X):\n",
    "  Sum = 0\n",
    "  for i in range(m):\n",
    "    Prod = 1\n",
    "    for j in range(n):\n",
    "      if (j!=i ):\n",
    "        # print('x[i],x[j]:   ',x[i],x[j])\n",
    "        Prod = Prod * ( (X - x[j])/(x[i] - x[j]) )\n",
    "    \n",
    "    Coeff[i] = round(Prod,8)\n",
    "    Sum = Sum + y[i]*Coeff[i]\n",
    "  return Sum\n",
    "\n",
    "print(f'Value y at x = {Target} =  { round( LP(Target),8 ) }')"
   ]
  },
  {
   "cell_type": "code",
   "execution_count": null,
   "metadata": {},
   "outputs": [],
   "source": [
    "def print_LP(X):\n",
    "  polynomial_str = \"\"\n",
    "  for i in range(m):\n",
    "    if Coeff[i] != 0:\n",
    "      \n",
    "      # Coefficient term\n",
    "      if Coeff[i] > 0 and i != 0:\n",
    "        polynomial_str += \" + \"\n",
    "      elif Coeff[i] < 0:\n",
    "        polynomial_str += \" - \"\n",
    "      if abs(Coeff[i]) != 1 or i == m - 1:\n",
    "        polynomial_str += str(abs(Coeff[i]))\n",
    "      \n",
    "      # Build the term for each factor (X - x[j])\n",
    "      term = \"\"\n",
    "      for j in range(m):\n",
    "        if j != i:\n",
    "          if x[j] > 0:\n",
    "            term += \"(X - \" + str(x[j]) + \")\"\n",
    "          else:\n",
    "            term += \"(X + \" + str(abs(x[j])) + \")\"\n",
    "      polynomial_str += term\n",
    "\n",
    "  print(\"Simplified polynomial form:\", polynomial_str)\n",
    "\n",
    "print_LP(Target)"
   ]
  },
  {
   "cell_type": "markdown",
   "metadata": {},
   "source": [
    "##### Newton's Divided difference formula:"
   ]
  },
  {
   "cell_type": "code",
   "execution_count": null,
   "metadata": {},
   "outputs": [],
   "source": [
    "x = np.array([5,7,11,13,17])\n",
    "y = np.array([140,390,1452,2355,5200])\n",
    "\n",
    "m = np.size(x)\n",
    "Tb = np.zeros((m,m),dtype=float)\n",
    "Tb[:,0] = y\n",
    "\n",
    "Target = 9 # float(input(\"Enter the point to calculate x : \"))\n",
    "\n",
    "# Coefficients array\n",
    "Coeff = np.zeros(m)"
   ]
  },
  {
   "cell_type": "code",
   "execution_count": null,
   "metadata": {},
   "outputs": [],
   "source": [
    "# Divided dfiffernce Table :\n",
    "for j in range(1,m):\n",
    "  for i in range(0,m-j):\n",
    "    Tb[i,j] = ( Tb[i+1,j-1] - Tb[i,j-1] )/( x[i+j] - x[i] )\n",
    "\n",
    "Tb = np.round(Tb,4)\n",
    "# Create the DataFrame\n",
    "column_names = ['y'] + [f'Δ^{j}' for j in range(0, m-1)]\n",
    "df = pd.DataFrame(Tb, columns=column_names)\n",
    "\n",
    "# Insert 'x' as the first column\n",
    "df.insert(0, 'x', x)\n",
    "\n",
    "print(\"Newton Divided Difference Table:\")\n",
    "print(df)"
   ]
  },
  {
   "cell_type": "code",
   "execution_count": null,
   "metadata": {},
   "outputs": [],
   "source": [
    "# Newton's polynomial :\n",
    "def NDD(X):\n",
    "  Sum = 0\n",
    "  for i in range(0,m):\n",
    "    Prod = 1\n",
    "    for j in range(i):\n",
    "      Prod = Prod * (X-x[j])\n",
    "      Coeff[i] = round(Tb[0,i],8)\n",
    "\n",
    "    Sum = Sum + Prod*Coeff[i]\n",
    "\n",
    "  print('Coeff:',Coeff)\n",
    "  return Sum\n",
    "\n",
    "print(f'Value y at x = {Target} =  { round( NDD(Target),5 ) }')"
   ]
  },
  {
   "cell_type": "code",
   "execution_count": null,
   "metadata": {},
   "outputs": [],
   "source": [
    "def print_NDD(X):\n",
    "  polynomial_str = \"\"\n",
    "  for i in range(m):\n",
    "    if Coeff[i] != 0:\n",
    "      if Coeff[i] > 0 and i != 0:\n",
    "        polynomial_str += \" + \"\n",
    "      elif Coeff[i] < 0:\n",
    "        polynomial_str += \" - \"\n",
    "      if abs(Coeff[i]) != 1 or i == m - 1:\n",
    "        polynomial_str += str(abs(Coeff[i]))\n",
    "\n",
    "      # Build the term for each factor (X - x[j])\n",
    "      term = \"\"\n",
    "      for j in range(i):\n",
    "        if x[j] > 0:\n",
    "          term += \"(X - \" + str(x[j]) + \")\"\n",
    "        else:\n",
    "          term += \"(X + \" + str(abs(x[j])) + \")\"\n",
    "      if i == 0:\n",
    "        polynomial_str += str(Coeff[i])  # Add the constant term\n",
    "      else:\n",
    "        polynomial_str += term\n",
    "\n",
    "  print(\"Simplified polynomial form:\", polynomial_str)\n",
    "\n",
    "print_NDD(Target)"
   ]
  }
 ],
 "metadata": {
  "kernelspec": {
   "display_name": "Python 3",
   "language": "python",
   "name": "python3"
  },
  "language_info": {
   "codemirror_mode": {
    "name": "ipython",
    "version": 3
   },
   "file_extension": ".py",
   "mimetype": "text/x-python",
   "name": "python",
   "nbconvert_exporter": "python",
   "pygments_lexer": "ipython3",
   "version": "3.12.1"
  }
 },
 "nbformat": 4,
 "nbformat_minor": 2
}
