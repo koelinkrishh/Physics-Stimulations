{
 "cells": [
  {
   "cell_type": "markdown",
   "metadata": {},
   "source": [
    "### Calculus:"
   ]
  },
  {
   "cell_type": "code",
   "execution_count": null,
   "metadata": {},
   "outputs": [],
   "source": [
    "import numpy as np\n",
    "import scipy,math"
   ]
  },
  {
   "cell_type": "markdown",
   "metadata": {},
   "source": [
    "### Differentiation: \n",
    "1st order:    1) Forward diff  2) Backward diff  3) Central diff <br>\n",
    "2nd order:    4) Forward diff  5) Backward diff"
   ]
  },
  {
   "cell_type": "code",
   "execution_count": null,
   "metadata": {},
   "outputs": [],
   "source": [
    "# Data: differentiate at x=3\n",
    "x = np.array( [1,2,3,4,5],dtype='float' )\n",
    "y = np.array( [2,4,8,16,32],dtype='float' )\n",
    "print('x : ',x)\n",
    "print('y : ',y)"
   ]
  },
  {
   "cell_type": "code",
   "execution_count": null,
   "metadata": {},
   "outputs": [],
   "source": [
    "# index at which x=3\n",
    "ind = np.argwhere(x==3)\n",
    "\n",
    "# first forward difference\n",
    "F1 = ( y[ind+1]-y[ind] )/( x[ind+1]-x[ind] )\n",
    "print('First forward diff at x = ',x[ind][0][0],' :',F1[0][0])\n",
    "\n",
    "# first backward difference\n",
    "F2 = ( y[ind]-y[ind-1] )/( x[ind]-x[ind-1] )\n",
    "print('First backward diff at x = ',x[ind][0][0],' :',F2[0][0])\n",
    "\n",
    "# first central difference\n",
    "F3 = ( y[ind+1]-y[ind-1] )/( x[ind+1]-x[ind-1] )\n",
    "print('First central diff at x = ',x[ind][0][0],' :',F3[0][0])\n",
    "\n",
    "# second forward difference\n",
    "F4 = -( y[ind+2] - 4*y[ind+1] + 3*y[ind] )/( x[ind+2]-x[ind] )\n",
    "print('Second forward diff at x = ',x[ind][0][0],' :',F4[0][0])\n",
    "\n",
    "# second backward difference\n",
    "F5 = ( 3*y[ind] - 4*y[ind-1] + y[ind-2] )/( x[ind]-x[ind-2] )\n",
    "print('Second backward diff at x = ',x[ind][0][0],' :',F5[0][0])\n"
   ]
  },
  {
   "cell_type": "markdown",
   "metadata": {},
   "source": [
    "### Integration:"
   ]
  },
  {
   "cell_type": "markdown",
   "metadata": {},
   "source": [
    "A } Simple: 1) Trapezoid 2) Simpson's 1/3 rule 3) Simpson's 3/8 rule <br>"
   ]
  },
  {
   "cell_type": "code",
   "execution_count": null,
   "metadata": {},
   "outputs": [],
   "source": [
    "Fx = lambda x: np.exp(-(x**2))\n",
    "a=0;b=2;n=100;"
   ]
  },
  {
   "cell_type": "code",
   "execution_count": null,
   "metadata": {},
   "outputs": [],
   "source": [
    "print('Integrate answer : ',scipy.integrate.quad(Fx,a,b)[0])\n",
    "# Trapezoid:\n",
    "I_trap = (b-a)/2 *(Fx(a)+Fx(b))\n",
    "print('Integration by trapezoidal rule:',round(I_trap,8))\n",
    "# Simpson 1/3\n",
    "h=(b-a)/2;\n",
    "I_1by3 = h/3 *(Fx(a)+Fx(a+h)+Fx(b))\n",
    "print('Integration by Simpson 1/3 rule:',round(I_1by3,8))\n",
    "# Simpson 3/8\n",
    "h=(b-a)/3;\n",
    "I_3by8 = 3/8* h *(Fx(a) + 3*Fx(a+h) + 3*Fx(a+2*h) + Fx(b))\n",
    "print('Integration by Simpson 3/8 rule:',round(I_3by8,8))"
   ]
  },
  {
   "cell_type": "markdown",
   "metadata": {},
   "source": [
    "B } Advance: 1) Composite Trapezoid 2) Composite Simpson 3) Romberg's <br>"
   ]
  },
  {
   "cell_type": "code",
   "execution_count": null,
   "metadata": {},
   "outputs": [],
   "source": [
    "# Composite Trapezoid(in-built):\n",
    "x_value = np.linspace(a,b,n)\n",
    "I_T = np.trapz(Fx(x_value),x_value)\n",
    "print('Integration by built_in composite trapezoid rule:',round(I_T,8))\n",
    "\n",
    "# Composite Trapeziod(user):\n",
    "h = (b-a)/n\n",
    "x_value = np.linspace(a,b,n)\n",
    "sum=0\n",
    "for i in x_value:\n",
    "    if (i==a or i==b):\n",
    "        pass\n",
    "    else:\n",
    "        sum+=Fx(i)\n",
    "\n",
    "I_Tr = h/2 *( Fx(a) + 2*sum + Fx(b)  )\n",
    "print('Integration by user composite trapezoid rule:',round(I_Tr,8))"
   ]
  },
  {
   "cell_type": "code",
   "execution_count": null,
   "metadata": {},
   "outputs": [],
   "source": [
    "# Composite simpsons:\n",
    "func = lambda x: 1/(5+x*2)\n",
    "a=0; b=5; n=10\n",
    "h=(b-a)/n\n",
    "\n",
    "x_range = np.arange(a,b+h,h)\n",
    "\n",
    "sumodd=0;sumeven=0\n",
    "for i in range(0,n+1):\n",
    "    if (i==0 or i==(n)):\n",
    "        pass\n",
    "    elif (i%2!=0): # odd index\n",
    "        sumodd += func(x_range[i])\n",
    "    elif (i%2==0): # even index\n",
    "        sumeven += func(x_range[i])\n",
    "\n",
    "I_simp = h/3 *( func(a) + 4*sumodd + 2*sumeven + func(b)  )\n",
    "print('Integration by Composite Simpson\\'s interpolation:',round(I_simp,8))"
   ]
  },
  {
   "cell_type": "code",
   "execution_count": null,
   "metadata": {},
   "outputs": [],
   "source": [
    "# Romberg's Integration :\n",
    "func = lambda x: np.log(x)\n",
    "a=4; b=5.2; n1=3;n2=6\n",
    "h1=(b-a)/n1 ; h2=(b-a)/n2\n",
    "\n",
    "x_1 = np.arange(a,b,h1)\n",
    "x_2 = np.linspace(a,b,n2)\n",
    "print(x_1,x_2)\n",
    "\n",
    "sum1=0;sum2=0\n",
    "for i in range(n1):\n",
    "    if i==0 or i==(n1-1):\n",
    "        pass\n",
    "    else:\n",
    "        sum1+= func(x_1[i])\n",
    "for i in range(n2):\n",
    "    if (i==0 or i==(n2-1)):\n",
    "        pass\n",
    "    else:\n",
    "        sum2+= func(x_2[i])\n",
    "\n",
    "I_1 = h1/2 *( func(a) + 2*sum1 + func(b)  )\n",
    "I_2 = h2/2 *( func(a) + 2*sum2 + func(b)  )\n",
    "I_Rhomberg = (4*I_2 - I_1)/3\n",
    "\n",
    "print('Integration by Rhomberg rule:',round(I_Rhomberg,8))"
   ]
  },
  {
   "cell_type": "markdown",
   "metadata": {},
   "source": [
    "#### Richardson Extrapolation: use for both intg and deriv"
   ]
  },
  {
   "cell_type": "markdown",
   "metadata": {},
   "source": [
    "Derivative :"
   ]
  },
  {
   "cell_type": "code",
   "execution_count": null,
   "metadata": {},
   "outputs": [],
   "source": [
    "x = np.array( [1,2,3,4,5],dtype='float' )\n",
    "y = np.array( [2,4,8,16,32],dtype='float' )\n",
    "h = 2\n",
    "ind = np.argwhere(x==3)[0][0]\n",
    "\n",
    "D1 = ( y[int(ind+h)] - y[int(ind-h)] ) / (2*h)\n",
    "D2 = ( y[int(ind+h/2)] - y[int(ind-h/2)] ) / h\n",
    "D_Richardson = (4*D2-D1)/3\n",
    "print('Derivative by Richardson\\'s interpolation:',round(D_Richardson,8))"
   ]
  },
  {
   "cell_type": "markdown",
   "metadata": {},
   "source": [
    "Integration :"
   ]
  },
  {
   "cell_type": "code",
   "execution_count": null,
   "metadata": {},
   "outputs": [],
   "source": [
    "func = lambda x: 1/x\n",
    "a=1; b=2; n1=2;n2=4\n",
    "h1=(b-a)/n1 ; h2=(b-a)/n2\n",
    "\n",
    "x_1 = np.arange(a,b+h1,h1)\n",
    "x_2 = np.arange(a,b+h2,h2)\n",
    "\n",
    "sum11=0;sum12=0;sum21=0;sum22=0;\n",
    "for i in range(0,n1+1):\n",
    "    if (i==0 or i==(n1)):\n",
    "        pass\n",
    "    elif (i%2!=0): # odd index\n",
    "        sum11 += 4*func(x_1[i])\n",
    "        #print('1)   ',i,func(x_1[i]))\n",
    "    elif (i%2==0): # even index\n",
    "        #print('2)   ',i,func(x_1[i]))\n",
    "        sum12 += 2*func(x_1[i])\n",
    "\n",
    "for i in range(0,n2+1):\n",
    "    if (i==0 or i==(n2)):\n",
    "        pass\n",
    "    elif (i%2!=0): # odd index\n",
    "        #print('3)   ',i,func(x_2[i]))\n",
    "        sum21 += 4*func(x_2[i])\n",
    "    elif (i%2==0): # even index\n",
    "        #print('4)   ',i,func(x_2[i]))\n",
    "        sum22 += 2*func(x_2[i])\n",
    "\n",
    "I_1 = h1/3 *( func(a) + sum11 + sum12 + func(b)  )\n",
    "I_2 = h2/3 *( func(a) + sum21 + sum22 + func(b)  )\n",
    "deg = h1/h2\n",
    "I_Richardson = ( (deg**4)*I_2 - I_1)/((deg**4)-1)\n",
    "\n",
    "print('Integration by Richardson\\'s interpolation:',round(I_Richardson,8))"
   ]
  }
 ],
 "metadata": {
  "kernelspec": {
   "display_name": "Python 3",
   "language": "python",
   "name": "python3"
  },
  "language_info": {
   "codemirror_mode": {
    "name": "ipython",
    "version": 3
   },
   "file_extension": ".py",
   "mimetype": "text/x-python",
   "name": "python",
   "nbconvert_exporter": "python",
   "pygments_lexer": "ipython3",
   "version": "3.12.1"
  }
 },
 "nbformat": 4,
 "nbformat_minor": 2
}
