{
 "cells": [
  {
   "cell_type": "markdown",
   "metadata": {},
   "source": [
    "### Finding root of given polynomial:\n",
    "Using 1)Bisection 2)Secant 3)Regula-falsi 4)Newton Raphson method"
   ]
  },
  {
   "cell_type": "code",
   "execution_count": 1,
   "metadata": {},
   "outputs": [],
   "source": [
    "import numpy as np\n",
    "from numpy.polynomial import Polynomial as poly\n",
    "\n",
    "# Define polynomial as object/list of coefficient for algebric eqn and as func for transcendental eqn"
   ]
  },
  {
   "cell_type": "markdown",
   "metadata": {},
   "source": [
    "#### 1) Bisection method:"
   ]
  },
  {
   "cell_type": "markdown",
   "metadata": {},
   "source": [
    "Q] Cos(x) - x $e^{x}$ b/w 0 and 1"
   ]
  },
  {
   "cell_type": "code",
   "execution_count": 2,
   "metadata": {},
   "outputs": [
    {
     "name": "stdout",
     "output_type": "stream",
     "text": [
      "f(x at 0) : 1.0\n",
      "f(x at 1) : -2.1779795225909053\n"
     ]
    }
   ],
   "source": [
    "def func(x):\n",
    "    value = np.cos(x)-x*np.exp(x)\n",
    "    return value\n",
    "\n",
    "# Initial conditions\n",
    "a0 = 0;b0 = 1;n=5\n",
    "# Initial Function value\n",
    "F0 = func(a0);F1 = func(b0)\n",
    "print(f\"f(x at {a0}) : {F0}\")\n",
    "print(f\"f(x at {b0}) : {F1}\")"
   ]
  },
  {
   "cell_type": "code",
   "execution_count": 3,
   "metadata": {},
   "outputs": [
    {
     "name": "stdout",
     "output_type": "stream",
     "text": [
      "Root is Initial b/w a=0 and b=1\n"
     ]
    }
   ],
   "source": [
    "if F0==0:\n",
    "    print(f'a0->{a0} is root of equation')\n",
    "elif F1==0:\n",
    "    print(f'b0->{b0} is root of equation')\n",
    "else:\n",
    "    print(f'Root is Initial b/w a={a0} and b={b0}')\n",
    "    \n",
    "if(F0*F1>0):\n",
    "    print(f'Root is not Initial b/w Limits')"
   ]
  },
  {
   "cell_type": "code",
   "execution_count": 4,
   "metadata": {},
   "outputs": [
    {
     "name": "stdout",
     "output_type": "stream",
     "text": [
      "f(x at 0.5) : 0.05322192654030866\n",
      "Root is b/w m=0.5 and b=1\n",
      "\n",
      "f(x at 0.75) : -0.8560611435856852\n",
      "Root is b/w a=0.5 and m=0.75\n",
      "\n",
      "f(x at 0.625) : -0.356690603889921\n",
      "Root is b/w a=0.5 and m=0.625\n",
      "\n",
      "f(x at 0.5625) : -0.1412937453091\n",
      "Root is b/w a=0.5 and m=0.5625\n",
      "\n",
      "f(x at 0.53125) : -0.04151221167208241\n",
      "Root is b/w a=0.5 and m=0.53125\n",
      "\n",
      "\n",
      "0.53125 is the root of equation after 5 iterations\n"
     ]
    }
   ],
   "source": [
    "for i in range(n):\n",
    "    m = (a0+b0)/2;Fm = func(m);\n",
    "    print(f\"f(x at {m}) : {Fm}\")\n",
    "\n",
    "    c1 = round(F0*Fm,6); c2 = round(F1*Fm,6)\n",
    "    if (c1<0 and c2>0):\n",
    "        print(f'Root is b/w a={a0} and m={m}\\n')\n",
    "        b0 = m;F1 = Fm;\n",
    "    elif (c2<0 and c1>0):\n",
    "        print(f'Root is b/w m={m} and b={b0}\\n')\n",
    "        a0 = m;F0 = Fm;\n",
    "    elif (c1==0 and c2==0):\n",
    "        print(f'{m} is the root of equation\\n')\n",
    "\n",
    "print(f'\\n{m} is the root of equation after {n} iterations')"
   ]
  },
  {
   "cell_type": "markdown",
   "metadata": {},
   "source": [
    "##### Secant and Regula-falsi method:"
   ]
  },
  {
   "cell_type": "markdown",
   "metadata": {},
   "source": [
    "Q] $x^{3}$+ 2 $x^{2}$ - 3 x - 1 = 0 b/w (1,2) by Secant"
   ]
  },
  {
   "cell_type": "code",
   "execution_count": 5,
   "metadata": {},
   "outputs": [
    {
     "data": {
      "text/latex": [
       "$x \\mapsto \\text{-1.0} - \\text{3.0}\\,x + \\text{2.0}\\,x^{2} + \\text{1.0}\\,x^{3}$"
      ],
      "text/plain": [
       "Polynomial([-1., -3.,  2.,  1.], domain=[-1,  1], window=[-1,  1], symbol='x')"
      ]
     },
     "metadata": {},
     "output_type": "display_data"
    },
    {
     "name": "stdout",
     "output_type": "stream",
     "text": [
      "f(x at 1.0) : -1.0 \n",
      "f(x at 2.0) : 9.0\n",
      "Root is Initially b/w a=1.0 and b=2.0\n"
     ]
    }
   ],
   "source": [
    "Fx = poly([-1,-3,2,1])\n",
    "display(Fx)\n",
    "\n",
    "x = np.zeros(n+2)\n",
    "f = np.zeros(n+2)\n",
    "# Initial conditions\n",
    "x[0]=1;x[1]=2;\n",
    "f[0] = round(Fx(x[0]),6)\n",
    "f[1] = round(Fx(x[1]),6)\n",
    "\n",
    "# Initial check\n",
    "print(f'f(x at {x[0]}) : {f[0]}')\n",
    "print(f\"f(x at {x[1]}) : {f[1]}\")\n",
    "\n",
    "if f[0]==0:\n",
    "  print(f'a->{x[0]} is root of equation')\n",
    "elif f[1]==0:\n",
    "  print(f'b->{x[1]} is root of equation')\n",
    "else:\n",
    "  print(f'Root is Initially b/w a={x[0]} and b={x[1]}')\n",
    "\n",
    "if( (f[0]*f[1]) > 0 ):\n",
    "  print(f'Root is not Initial b/w Limits')"
   ]
  },
  {
   "cell_type": "code",
   "execution_count": 13,
   "metadata": {},
   "outputs": [
    {
     "name": "stdout",
     "output_type": "stream",
     "text": [
      "f(x at 1.1) : -0.549\n",
      "f(x at 1.1517) : -0.27440072\n",
      "f(x at 1.2034) : 0.02917984\n",
      "f(x at 1.1985) : -0.00128999\n",
      "f(x at 1.1987) : -5.61e-06\n",
      "\n",
      "1.19869 is the root of equation after 5 iterations\n"
     ]
    }
   ],
   "source": [
    "for i in range(n):\n",
    "    delta = ( x[i+1]-x[i] ) / ( f[i+1]-f[i] )\n",
    "    x[i+2] = x[i+1] - f[i+1]*delta\n",
    "    f[i+2] = Fx( x[i+2] )\n",
    "    #print(x[i],f[i],delta)\n",
    "\n",
    "    print(f\"f(x at {round(x[i+2],4)}) : {round(f[i+2],8)}\")\n",
    "    if f[i+2] == 0:\n",
    "        print(f'{x[i+2]}  is the root of equation')\n",
    "\n",
    "print(f'\\n{ round(x[n+1],5) } is the root of equation after {n} iterations')"
   ]
  },
  {
   "cell_type": "markdown",
   "metadata": {},
   "source": [
    "Q] Cos (t) + t $e^{t}$  = 0 b/w (0,1) by Regula falsi"
   ]
  },
  {
   "cell_type": "code",
   "execution_count": 7,
   "metadata": {},
   "outputs": [
    {
     "name": "stdout",
     "output_type": "stream",
     "text": [
      "f(t at 0.0) : 1.0 \n",
      "f(t at 1.0) : -2.1779795225909053\n",
      "Root is Initially b/w a=0.0 and b=1.0\n"
     ]
    }
   ],
   "source": [
    "Gt = lambda t: np.cos(t) - t*np.exp(t)\n",
    "\n",
    "t = np.zeros(n+2)\n",
    "g = np.zeros(n+2)\n",
    "# Initial conditions\n",
    "t[0]=0;t[1]=1;\n",
    "g[0] = Gt(t[0]);g[1] = Gt(t[1]);\n",
    "\n",
    "# Initial check\n",
    "print(f'f(t at {t[0]}) : {g[0]} ')\n",
    "print(f\"f(t at {t[1]}) : {g[1]}\")\n",
    "\n",
    "if g[0]==0:\n",
    "    print(f'a->{t[0]} is root of equation')\n",
    "elif g[1]==0:\n",
    "    print(f'b->{t[1]} is root of equation')\n",
    "else:\n",
    "    print(f'Root is Initially b/w a={t[0]} and b={t[1]}')\n",
    "\n",
    "if( (g[0]*g[1]) > 0 ):\n",
    "    print(f'Root is not Initial b/w Limits')"
   ]
  },
  {
   "cell_type": "code",
   "execution_count": 8,
   "metadata": {},
   "outputs": [
    {
     "name": "stdout",
     "output_type": "stream",
     "text": [
      "\n",
      "f(t at 0.314665) : 0.5198711738\n",
      "Root is b/w c=0.314665337800771 and b=1.0\n",
      "\n",
      "f(t at 0.446728) : 0.2035447778\n",
      "Root is b/w c=0.44672814459133403 and b=1.0\n",
      "\n",
      "f(t at 0.494015) : 0.070802349\n",
      "Root is b/w c=0.4940153365958987 and b=1.0\n",
      "\n",
      "f(t at 0.509946) : 0.0236077188\n",
      "Root is b/w c=0.509946140365247 and b=1.0\n",
      "\n",
      "f(t at 0.515201) : 0.0077601137\n",
      "Root is b/w c=0.5152010099022495 and b=1.0\n",
      "\n",
      "0.515201 is the root of equation after 5 iterations\n"
     ]
    }
   ],
   "source": [
    "a = t[0];b = t[1];fa = g[0];fb = g[1]\n",
    "for i in range(n):\n",
    "    delta = (b-a)/(fb-fa)\n",
    "    c = b - fb*delta\n",
    "    fc = Gt( c )\n",
    "    \n",
    "    print(f\"\\nf(t at {round(c,6)}) : {round(fc,10)}\")\n",
    "    if fc == 0:\n",
    "        print(f'{c}  is the root of equation')\n",
    "\n",
    "    c1 = fa*fc; c2 = fc*fb\n",
    "    if (c1<0 and c2>0):\n",
    "        print(f'Root is b/w a={a} and c={c}')\n",
    "        b = c;fb = fc;\n",
    "    elif (c2<0 and c1>0):\n",
    "        print(f'Root is b/w c={c} and b={b}')\n",
    "        a = c;fa = fc;\n",
    "\n",
    "    t[i+2]=c \n",
    "    g[i+2]=fc \n",
    "\n",
    "print(f'\\n{ round(t[n+1],7) } is the root of equation after {n} iterations')"
   ]
  },
  {
   "cell_type": "markdown",
   "metadata": {},
   "source": [
    "##### Newton Raphson Method:"
   ]
  },
  {
   "cell_type": "markdown",
   "metadata": {},
   "source": [
    "Q] $z^{3}$ - 5 z + 1 = 0  with x0=2"
   ]
  },
  {
   "cell_type": "code",
   "execution_count": 15,
   "metadata": {},
   "outputs": [
    {
     "data": {
      "text/plain": [
       "'F(x):'"
      ]
     },
     "metadata": {},
     "output_type": "display_data"
    },
    {
     "data": {
      "text/latex": [
       "$x \\mapsto \\text{1.0} - \\text{5.0}\\,x\\color{LightGray}{ + \\text{0.0}\\,x^{2}} + \\text{1.0}\\,x^{3}$"
      ],
      "text/plain": [
       "Polynomial([ 1., -5.,  0.,  1.], domain=[-1,  1], window=[-1,  1], symbol='x')"
      ]
     },
     "metadata": {},
     "output_type": "display_data"
    },
    {
     "name": "stdout",
     "output_type": "stream",
     "text": [
      "Initially,  f(x at 6) = 187.0\n",
      "\n",
      "f(x at 4.184466019417476) = 53.34664833942973\n",
      "f(x at 3.0620702613964426) = 14.40045934604313\n",
      "f(x at 2.439450622041587) = 3.319720769080786\n",
      "f(x at 2.1811620301342414) = 0.47099797798157894\n",
      "f(x at 2.130366356412515) = 0.016752442857177807\n",
      "f(x at 2.128421875946499) = 2.415742086403494e-05\n",
      "f(x at 2.128419063850455) = 5.049327622685951e-11\n",
      "\n",
      " 2.12841906  is the root of Equation\n"
     ]
    }
   ],
   "source": [
    "Px = poly([1,-5,0,1])\n",
    "P_dash = Px.deriv()\n",
    "\n",
    "display('F(x):',Px)\n",
    "# Initial values\n",
    "x0=6; f0=Px(x0)\n",
    "\n",
    "print(f'Initially,  f(x at {x0}) = {f0}\\n')\n",
    "\n",
    "while True:\n",
    "  x1 = x0 - (Px(x0)/P_dash(x0))\n",
    "  f1 = Px(x1)\n",
    "  x0 = x1;f0 = f1;\n",
    "\n",
    "  print(f'f(x at {x0}) = {f0}')\n",
    "  if f1<(1e-10):\n",
    "    print('\\n',round(x0,8),' is the root of Equation')\n",
    "    break"
   ]
  }
 ],
 "metadata": {
  "kernelspec": {
   "display_name": "Python 3",
   "language": "python",
   "name": "python3"
  },
  "language_info": {
   "codemirror_mode": {
    "name": "ipython",
    "version": 3
   },
   "file_extension": ".py",
   "mimetype": "text/x-python",
   "name": "python",
   "nbconvert_exporter": "python",
   "pygments_lexer": "ipython3",
   "version": "3.12.1"
  }
 },
 "nbformat": 4,
 "nbformat_minor": 2
}
