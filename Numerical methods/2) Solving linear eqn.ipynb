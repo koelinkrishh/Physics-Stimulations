{
 "cells": [
  {
   "cell_type": "markdown",
   "metadata": {},
   "source": [
    "## System of linear Algebraic Equations:"
   ]
  },
  {
   "cell_type": "code",
   "execution_count": null,
   "metadata": {},
   "outputs": [],
   "source": [
    "import numpy as np\n",
    "\n",
    "# function for \n",
    "def swap(arr,first_index,second_index):\n",
    "    arr[[first_index,second_index]] = arr[[second_index,first_index]]"
   ]
  },
  {
   "cell_type": "markdown",
   "metadata": {},
   "source": [
    "#### 1) Guass Elimination:"
   ]
  },
  {
   "cell_type": "code",
   "execution_count": null,
   "metadata": {},
   "outputs": [],
   "source": [
    "n = int(input('Enter the number of unknowns:   '))\n",
    "\n",
    "# A1 = np.array([ [2,-2,0,-6],[1,-1,1,1],[0,3,-2,-5] ],dtype='float')\n",
    "A1 = np.zeros((n,n+1))\n",
    "for i in range(n):\n",
    "  for j in range(n+1):\n",
    "    if j==n:\n",
    "      A1[i,n] = float(input(f'Enter B[{i+1}] :')) \n",
    "    else:\n",
    "      A1[i,j] = float(input(f'Enter A1[{i+1},{j+1}] :')) \n",
    "\n",
    "A_orig = A1.copy()\n",
    "display('Coeeficient Matrix:',A1)"
   ]
  },
  {
   "cell_type": "code",
   "execution_count": null,
   "metadata": {},
   "outputs": [],
   "source": [
    "# Pivoting\n",
    "for i in range(n):\n",
    "  max_index = i + np.argmax(abs(A1[i:, i]))\n",
    "  if i != max_index:\n",
    "    swap(A1, i, max_index)\n",
    "\n",
    "print('Pivoted Matrix')\n",
    "print(A1)\n",
    "\n",
    "# Gaussian elimination algorithm\n",
    "for i in range(n):  # Each level/column\n",
    "  if (A1[i,i]==0 and i+1<n):\n",
    "    swap(A1,i,i+1)\n",
    "  else:\n",
    "    for j in range(i+1, n):  # Each row\n",
    "      factor = A1[j, i] / A1[i, i]\n",
    "      A1[j, :] -= factor * A1[i, :]\n",
    "\n",
    "print('Upper Triangular Matrix:')\n",
    "print(A1)"
   ]
  },
  {
   "cell_type": "code",
   "execution_count": null,
   "metadata": {},
   "outputs": [],
   "source": [
    "'''\n",
    "X[-1] = A1[-1, -2] / A1[-1, -3]\n",
    "for k1 in range(n-2, -1, -1):\n",
    "  X[k1] = (A1[k1, -2] - np.dot(A1[k1, k1+1:n], X[k1+1:n])) / A1[k1, k1]\n",
    "'''\n",
    "\n",
    "# Back substitution\n",
    "X = np.zeros(n) # vector for string solution\n",
    "for k1 in range(n-1,-1,-1): # reverse for loop\n",
    "  sum_ax = 0\n",
    "  for j in range(k1+1, n):\n",
    "    sum_ax += A1[k1, j] * X[j]\n",
    "  X[k1] = (A1[k1, -1] - sum_ax) / A1[k1, k1]\n",
    "  print(X[k1])\n",
    "\n",
    "print('Solution to given Equations:')\n",
    "print(X)"
   ]
  },
  {
   "cell_type": "code",
   "execution_count": null,
   "metadata": {},
   "outputs": [],
   "source": [
    "# Checking answer\n",
    "b = np.zeros(n)\n",
    "for i in range(n):\n",
    "  b[i] = np.dot(X,A_orig[i,0:n])\n",
    "\n",
    "print('Calculated b:', b)\n",
    "print('Original b:', A_orig[:, -1])"
   ]
  },
  {
   "cell_type": "markdown",
   "metadata": {},
   "source": [
    "#### 2) Guass Jacobi using Matrix notation :"
   ]
  },
  {
   "cell_type": "code",
   "execution_count": null,
   "metadata": {},
   "outputs": [],
   "source": [
    "# Defining Matrices\n",
    "A = np.array([ [4,1,1],[1,5,2],[1,2,3] ],dtype='float64') # Coefficient matrix\n",
    "b = np.array([2,-6,-4]) # constant matrix\n",
    "x = np.array([0.5,-0.5,-0.5]) # Initial values"
   ]
  },
  {
   "cell_type": "code",
   "execution_count": null,
   "metadata": {},
   "outputs": [],
   "source": [
    "D = np.diag(np.diag(A)) # repeating command maintain dimension\n",
    "L = np.tril(A) - D\n",
    "U = np.triu(A) - D\n",
    "\n",
    "inv_D = np.linalg.inv(D)\n",
    "\n",
    "H = -np.matmul(inv_D,(L+U))\n",
    "C = np.matmul(inv_D,b)"
   ]
  },
  {
   "cell_type": "code",
   "execution_count": null,
   "metadata": {},
   "outputs": [],
   "source": [
    "print('Solution to given Equations:')\n",
    "print(f'{A}*{np.array( ['x','y','z'] )} = {b}\\n')\n",
    "\n",
    "for i in range(12):\n",
    "    x = np.matmul(H,x)+C\n",
    "\n",
    "    #print(f'Solution at {i}th iteration :',x)\n",
    "    print(f'x = {x[0]:.2f}, y = {x[1]:.2f}, z = {x[2]:.2f}  at {i+1} iterations')"
   ]
  },
  {
   "cell_type": "markdown",
   "metadata": {},
   "source": [
    "#### 3) Guass-Scidel using matrix method :"
   ]
  },
  {
   "cell_type": "code",
   "execution_count": null,
   "metadata": {},
   "outputs": [],
   "source": [
    "# Defining Matrices\n",
    "A = np.array([ [4,1,1],[1,5,2],[1,2,3] ],dtype='float64') # Coefficient matrix\n",
    "b = np.array([2,-6,-4]) # constant matrix\n",
    "x = np.array([0.5,-0.5,-0.5]) # Initial values\n",
    "\n",
    "D = np.diag(np.diag(A)) # repeating command maintain dimension\n",
    "L = np.tril(A) - D\n",
    "U = np.triu(A) - D\n",
    "\n",
    "inv_D_plus_L = np.linalg.inv((D+L))\n",
    "\n",
    "H = -np.matmul(inv_D_plus_L,U)\n",
    "C = np.matmul(inv_D_plus_L,b)"
   ]
  },
  {
   "cell_type": "code",
   "execution_count": null,
   "metadata": {},
   "outputs": [],
   "source": [
    "print('Solution to given Equations:')\n",
    "print(f'{A}*{np.array( ['x','y','z'] )} = {b}\\n')\n",
    "\n",
    "for i in range(5):\n",
    "    x = np.matmul(H,x)+C\n",
    "    print(f'x = {x[0]:.2f}, y = {x[1]:.2f}, z = {x[2]:.2f}  at {i+1} iterations')"
   ]
  },
  {
   "cell_type": "markdown",
   "metadata": {},
   "source": [
    "#### 4) Guass-Scidel using iterative method:"
   ]
  },
  {
   "cell_type": "code",
   "execution_count": null,
   "metadata": {},
   "outputs": [],
   "source": [
    "# Defining matrix:\n",
    "A = np.array([ [2,-1,0],[-1,2,-1],[0,-1,2] ],dtype='float')\n",
    "B = np.array([7,1,1],dtype='float')\n",
    "x = np.zeros(3,dtype='float') # Initial approximation\n",
    "\n",
    "print('Solution to given Equations:')\n",
    "print(f'{A}*{np.array( ['x','y','z'] )} = {B}\\n')\n",
    "for i in range(1,21):\n",
    "    x[0] = ( B[0] - A[0,1]*x[1] - A[0,2]*x[2] )/A[0,0]\n",
    "    x[1] = ( B[1] - A[1,0]*x[0] - A[1,2]*x[2] )/A[1,1]\n",
    "    x[2] = ( B[2] - A[2,0]*x[0] - A[2,1]*x[1] )/A[2,2]\n",
    "    if i%3==0 :\n",
    "        print(f'x = {round(x[0],4)}, y = {round(x[1],4)}, z = {round(x[2],4)}  at {i} iteration')"
   ]
  }
 ],
 "metadata": {
  "kernelspec": {
   "display_name": "Python 3",
   "language": "python",
   "name": "python3"
  },
  "language_info": {
   "codemirror_mode": {
    "name": "ipython",
    "version": 3
   },
   "file_extension": ".py",
   "mimetype": "text/x-python",
   "name": "python",
   "nbconvert_exporter": "python",
   "pygments_lexer": "ipython3",
   "version": "3.12.1"
  }
 },
 "nbformat": 4,
 "nbformat_minor": 2
}
