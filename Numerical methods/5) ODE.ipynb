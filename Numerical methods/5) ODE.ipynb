{
 "cells": [
  {
   "cell_type": "markdown",
   "metadata": {},
   "source": [
    "## Solving ordinary differential equations:"
   ]
  },
  {
   "cell_type": "code",
   "execution_count": 13,
   "metadata": {},
   "outputs": [],
   "source": [
    "import numpy as np\n",
    "import inspect"
   ]
  },
  {
   "cell_type": "markdown",
   "metadata": {},
   "source": [
    "#### Euler method:\n",
    "Q) dy/dx = x+y; y(0) = 2 for x->[0,1] with h=0.5"
   ]
  },
  {
   "cell_type": "code",
   "execution_count": 14,
   "metadata": {},
   "outputs": [],
   "source": [
    "Func = lambda x,y:x+y\n",
    "h=0.5;x0=0;x1=1;y0=2;\n",
    "\n",
    "x = np.arange(x0,x1+1e-10,h)\n",
    "y = np.zeros(np.size(x))"
   ]
  },
  {
   "cell_type": "code",
   "execution_count": 15,
   "metadata": {},
   "outputs": [
    {
     "name": "stdout",
     "output_type": "stream",
     "text": [
      "Solutions: [2.   3.   4.75]\n",
      "Solution to given ODE : 4.75\n"
     ]
    }
   ],
   "source": [
    "y[0]  = 2\n",
    "for i in range(1,np.size(x)):\n",
    "    Fxy = Func(x[i-1],y[i-1])\n",
    "    y[i] = y[i-1]+h*Fxy\n",
    "\n",
    "print('Solutions:',y)\n",
    "print(f'Solution to given ODE :',y[np.size(y)-1] )"
   ]
  },
  {
   "cell_type": "markdown",
   "metadata": {},
   "source": [
    "##### Euler's Modified method:\n",
    "Q) dy/dx = 3e^-x - 0.4y; y(0) = 5 for x->[0,3] with h=1"
   ]
  },
  {
   "cell_type": "code",
   "execution_count": 16,
   "metadata": {},
   "outputs": [],
   "source": [
    "Func = lambda x,y: x+y\n",
    "h=0.5;x0=0;x1=1;y0=1;\n",
    "\n",
    "x = np.arange(x0,x1+h+1e-10,h)\n",
    "x_size = np.size(x);\n",
    "iter = 5; # iterations of modified euler\n",
    "y = np.zeros((x_size-1,iter+1),dtype='float')"
   ]
  },
  {
   "cell_type": "code",
   "execution_count": 17,
   "metadata": {},
   "outputs": [
    {
     "name": "stdout",
     "output_type": "stream",
     "text": [
      "Using Euler method\n",
      "y[0,1] = 1.0 + 0.5*( (1, 5) ) = 1.5\n",
      "Using Euler modified method\n",
      "y[0,2] = 1.0 + (0.5/2)*( 1.0+2.0 ) = 1.75\n",
      "Using Euler modified method\n",
      "y[0,3] = 1.0 + (0.5/2)*( 1.0+2.25 ) = 1.8125\n",
      "Using Euler modified method\n",
      "y[0,4] = 1.0 + (0.5/2)*( 1.0+2.3125 ) = 1.82812\n",
      "Using Euler modified method\n",
      "y[0,5] = 1.0 + (0.5/2)*( 1.0+2.32812 ) = 1.83203\n",
      "Using Euler method\n",
      "y[1,1] = 1.83203 + 0.5*( (2, 5) ) = 2.99805\n",
      "Using Euler modified method\n",
      "y[1,2] = 1.83203 + (0.5/2)*( 2.33203+3.99805 ) = 3.41455\n",
      "Using Euler modified method\n",
      "y[1,3] = 1.83203 + (0.5/2)*( 2.33203+4.41455 ) = 3.51868\n",
      "Using Euler modified method\n",
      "y[1,4] = 1.83203 + (0.5/2)*( 2.33203+4.51868 ) = 3.54471\n",
      "Using Euler modified method\n",
      "y[1,5] = 1.83203 + (0.5/2)*( 2.33203+4.54471 ) = 3.55122\n",
      "Using Euler method\n",
      "y[2,1] = 3.55122 + 0.5*( (5, 5) ) = 5.82682\n",
      "Using Euler modified method\n",
      "y[2,2] = 3.55122 + (0.5/2)*( 4.55122+7.32682 ) = 6.52073\n",
      "Using Euler modified method\n",
      "y[2,3] = 3.55122 + (0.5/2)*( 4.55122+8.02073 ) = 6.6942\n",
      "Using Euler modified method\n",
      "y[2,4] = 3.55122 + (0.5/2)*( 4.55122+8.1942 ) = 6.73757\n",
      "Using Euler modified method\n",
      "y[2,5] = 3.55122 + (0.5/2)*( 4.55122+8.23757 ) = 6.74841\n",
      "\n",
      "Therefore, final solution y(x = 1) is 6.748412802815437\n"
     ]
    }
   ],
   "source": [
    "y[0,0] = y0\n",
    "# First euler then modified euler on it\n",
    "for i in range(x_size-1): # Euler\n",
    "  Fxy = Func(x[i],y[i,0])\n",
    "  y[i,1] = y[i,0]+h*Fxy\n",
    "  print(\"Using Euler method\")\n",
    "  print(f'y[{i},{1}] = {round(y[i,0],5)} + {h}*( {round(Fxy),5} ) = {round(y[i,1],5)}')\n",
    "  for j in range(1,iter): # Modified Euler\n",
    "    Fxy0 = Func(x[i],y[i,0])\n",
    "    Fxy1 = Func(x[i+1],y[i,j])\n",
    "    \n",
    "    y[i,j+1] = y[i,0] + (h/2)*(Fxy0+Fxy1)\n",
    "    print(\"Using Euler modified method\")\n",
    "    print(f'y[{i},{j+1}] = {round(y[i,0],5)} + ({h}/2)*( {round(Fxy0,5)}+{round(Fxy1,5)} ) = { round(y[i,j+1],5) }')\n",
    "\n",
    "    if i!=(x_size-2):\n",
    "        y[i+1,0] = y[i,iter]\n",
    "\n",
    "print('\\nTherefore, final solution y(x = {}) is {}'.format(x1,y[-1][-1]) )"
   ]
  },
  {
   "cell_type": "markdown",
   "metadata": {},
   "source": [
    "#### <b>Ranga-Kutta</b> :"
   ]
  },
  {
   "cell_type": "code",
   "execution_count": 18,
   "metadata": {},
   "outputs": [],
   "source": [
    "# General Method:\n",
    "def Runga(Fxy,a1,a2,p,q):\n",
    "    # Data strructure\n",
    "    x = np.linspace(x0,x1,n+1,endpoint=True)\n",
    "    y = np.zeros(n+1,dtype='float')\n",
    "\n",
    "    y[0] = y0;\n",
    "    for i in range(n):\n",
    "        K1 = Fxy(x[i],y[i])\n",
    "        K2 = Fxy(x[i] + p*h ,y[i] + K1*q*h)\n",
    "        y[i+1] = y[i] + h*( a1*K1 + a2*K2 )\n",
    "    return x,y\n",
    "    "
   ]
  },
  {
   "cell_type": "markdown",
   "metadata": {},
   "source": [
    "##### A} Heun's method:     a1=a2=1/2;p=q=1;\n",
    "Q) dy/dx = 2y/x where y(1)=2. Estimate y(2) with h=0.25"
   ]
  },
  {
   "cell_type": "code",
   "execution_count": 19,
   "metadata": {},
   "outputs": [
    {
     "name": "stdout",
     "output_type": "stream",
     "text": [
      "\n",
      "Solution to Given (( Function = lambda x,y: 2*y/x\n",
      " )) by Heun's method: 7.860846\n"
     ]
    }
   ],
   "source": [
    "\"\"\"  print(inspect.getsource(Function)) # Print function directly  \"\"\"\n",
    "Function = lambda x,y: 2*y/x\n",
    "x0=1;x1=2; y0=2; h=0.25;\n",
    "n=int( (x1-x0)/h )\n",
    "\n",
    "#   a1=a2=1/2;p=q=1;\n",
    "X,Y = Runga(Function,1/2,1/2,1,1)\n",
    "\n",
    "sol = round( Y[np.size(Y)-1],6 )\n",
    "\n",
    "print(f'\\nSolution to Given (( {inspect.getsource(Function)} )) by Heun\\'s method: {sol}')"
   ]
  },
  {
   "cell_type": "markdown",
   "metadata": {},
   "source": [
    "##### B} Mid point's method:     a1=0;a2=1;p=q=1/2;\n",
    "Q) dy/dx = 2y/x where y(1)=2. Estimate y(2) with h=0.2"
   ]
  },
  {
   "cell_type": "code",
   "execution_count": 20,
   "metadata": {},
   "outputs": [
    {
     "name": "stdout",
     "output_type": "stream",
     "text": [
      "\n",
      "Sol. to (( Funct = lambda x,y: y**2 + 5*x\n",
      " )) by Mid point method : 73109194.378616\n"
     ]
    }
   ],
   "source": [
    "\"\"\"  print(inspect.getsource(Function)) # Print function directly  \"\"\"\n",
    "Funct = lambda x,y: y**2 + 5*x\n",
    "x0=0;x1=1.5; y0=2; h=0.5;\n",
    "n=int( (x1-x0)/h )\n",
    "\n",
    "#   a1=0;a2=1;p=q=1/2;\n",
    "X_alt,Y_alt = Runga(Funct,0,1,1/2,1/2)\n",
    "\n",
    "solution = round( Y_alt[np.size(Y_alt)-1],6 )\n",
    "\n",
    "print(f'\\nSol. to (( {inspect.getsource(Funct)} )) by Mid point method : {solution}')"
   ]
  }
 ],
 "metadata": {
  "kernelspec": {
   "display_name": "Python 3",
   "language": "python",
   "name": "python3"
  },
  "language_info": {
   "codemirror_mode": {
    "name": "ipython",
    "version": 3
   },
   "file_extension": ".py",
   "mimetype": "text/x-python",
   "name": "python",
   "nbconvert_exporter": "python",
   "pygments_lexer": "ipython3",
   "version": "3.12.1"
  }
 },
 "nbformat": 4,
 "nbformat_minor": 2
}
